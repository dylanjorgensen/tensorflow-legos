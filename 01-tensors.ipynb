{
 "cells": [
  {
   "cell_type": "markdown",
   "metadata": {},
   "source": [
    "### Resources:\n",
    "- [Lecture 7 - Introduction to TensorFlow](https://www.youtube.com/watch?v=L8Y2_Cq2X5s&list=PLmImxx8Char9Ig0ZHSyTqGsdhb9weEGam&index=7)\n",
    "- [TensorFlow How Tos - Variables](https://www.tensorflow.org/versions/r0.10/how_tos/variables/index.html)\n",
    "- Tensors can only hold one data type, have a shape and a rank (units of dimensionality) and are the only things that can be passed between operations in the computational graph. "
   ]
  },
  {
   "cell_type": "markdown",
   "metadata": {
    "toc": "true"
   },
   "source": [
    "# Table of Contents\n",
    " <p><div class=\"lev3 toc-item\"><a href=\"#Resources:\" data-toc-modified-id=\"Resources:-0.0.1\"><span class=\"toc-item-num\">0.0.1&nbsp;&nbsp;</span>Resources:</a></div><div class=\"lev1 toc-item\"><a href=\"#class-tf.Tensor\" data-toc-modified-id=\"class-tf.Tensor-1\"><span class=\"toc-item-num\">1&nbsp;&nbsp;</span>class tf.Tensor</a></div><div class=\"lev2 toc-item\"><a href=\"#Info\" data-toc-modified-id=\"Info-1.1\"><span class=\"toc-item-num\">1.1&nbsp;&nbsp;</span>Info</a></div><div class=\"lev2 toc-item\"><a href=\"#Constants\" data-toc-modified-id=\"Constants-1.2\"><span class=\"toc-item-num\">1.2&nbsp;&nbsp;</span>Constants</a></div><div class=\"lev3 toc-item\"><a href=\"#=-tf.constant()...\" data-toc-modified-id=\"=-tf.constant()...-1.2.1\"><span class=\"toc-item-num\">1.2.1&nbsp;&nbsp;</span>= tf.constant()...</a></div><div class=\"lev3 toc-item\"><a href=\"#=-tf.ones()...\" data-toc-modified-id=\"=-tf.ones()...-1.2.2\"><span class=\"toc-item-num\">1.2.2&nbsp;&nbsp;</span>= tf.ones()...</a></div><div class=\"lev2 toc-item\"><a href=\"#Sequences\" data-toc-modified-id=\"Sequences-1.3\"><span class=\"toc-item-num\">1.3&nbsp;&nbsp;</span>Sequences</a></div><div class=\"lev3 toc-item\"><a href=\"#=-tf.linspace()...\" data-toc-modified-id=\"=-tf.linspace()...-1.3.1\"><span class=\"toc-item-num\">1.3.1&nbsp;&nbsp;</span>= tf.linspace()...</a></div><div class=\"lev2 toc-item\"><a href=\"#Random\" data-toc-modified-id=\"Random-1.4\"><span class=\"toc-item-num\">1.4&nbsp;&nbsp;</span>Random</a></div><div class=\"lev3 toc-item\"><a href=\"#=-tf.random_normal()...\" data-toc-modified-id=\"=-tf.random_normal()...-1.4.1\"><span class=\"toc-item-num\">1.4.1&nbsp;&nbsp;</span>= tf.random_normal()...</a></div><div class=\"lev1 toc-item\"><a href=\"#Variables\" data-toc-modified-id=\"Variables-2\"><span class=\"toc-item-num\">2&nbsp;&nbsp;</span>Variables</a></div><div class=\"lev3 toc-item\"><a href=\"#=-tf.placeholder()...\" data-toc-modified-id=\"=-tf.placeholder()...-2.0.1\"><span class=\"toc-item-num\">2.0.1&nbsp;&nbsp;</span>= tf.placeholder()...</a></div><div class=\"lev3 toc-item\"><a href=\"#=-tf.Variable()...\" data-toc-modified-id=\"=-tf.Variable()...-2.0.2\"><span class=\"toc-item-num\">2.0.2&nbsp;&nbsp;</span>= tf.Variable()...</a></div><div class=\"lev1 toc-item\"><a href=\"#Shape\" data-toc-modified-id=\"Shape-3\"><span class=\"toc-item-num\">3&nbsp;&nbsp;</span>Shape</a></div><div class=\"lev3 toc-item\"><a href=\"#=-tf.Variable.get_shape()...\" data-toc-modified-id=\"=-tf.Variable.get_shape()...-3.0.1\"><span class=\"toc-item-num\">3.0.1&nbsp;&nbsp;</span>= tf.Variable.get_shape()...</a></div><div class=\"lev3 toc-item\"><a href=\"#=-tf.reshape()...\" data-toc-modified-id=\"=-tf.reshape()...-3.0.2\"><span class=\"toc-item-num\">3.0.2&nbsp;&nbsp;</span>= tf.reshape()...</a></div><div class=\"lev4 toc-item\"><a href=\"#+-Flatten-w/-[-1]...\" data-toc-modified-id=\"+-Flatten-w/-[-1]...-3.0.2.1\"><span class=\"toc-item-num\">3.0.2.1&nbsp;&nbsp;</span>+ Flatten w/ [-1]...</a></div><div class=\"lev1 toc-item\"><a href=\"#Casting\" data-toc-modified-id=\"Casting-4\"><span class=\"toc-item-num\">4&nbsp;&nbsp;</span>Casting</a></div><div class=\"lev3 toc-item\"><a href=\"#=-tf.convert_to_tensor()...\" data-toc-modified-id=\"=-tf.convert_to_tensor()...-4.0.1\"><span class=\"toc-item-num\">4.0.1&nbsp;&nbsp;</span>= tf.convert_to_tensor()...</a></div><div class=\"lev2 toc-item\"><a href=\"#dtypes\" data-toc-modified-id=\"dtypes-4.1\"><span class=\"toc-item-num\">4.1&nbsp;&nbsp;</span>dtypes</a></div><div class=\"lev3 toc-item\"><a href=\"#=-tf.float32...\" data-toc-modified-id=\"=-tf.float32...-4.1.1\"><span class=\"toc-item-num\">4.1.1&nbsp;&nbsp;</span>= tf.float32...</a></div><div class=\"lev3 toc-item\"><a href=\"#=-tf.uint8...\" data-toc-modified-id=\"=-tf.uint8...-4.1.2\"><span class=\"toc-item-num\">4.1.2&nbsp;&nbsp;</span>= tf.uint8...</a></div><div class=\"lev3 toc-item\"><a href=\"#=-tf.string...\" data-toc-modified-id=\"=-tf.string...-4.1.3\"><span class=\"toc-item-num\">4.1.3&nbsp;&nbsp;</span>= tf.string...</a></div><div class=\"lev1 toc-item\"><a href=\"#Sharing\" data-toc-modified-id=\"Sharing-5\"><span class=\"toc-item-num\">5&nbsp;&nbsp;</span>Sharing</a></div><div class=\"lev2 toc-item\"><a href=\"#Scope\" data-toc-modified-id=\"Scope-5.1\"><span class=\"toc-item-num\">5.1&nbsp;&nbsp;</span>Scope</a></div><div class=\"lev3 toc-item\"><a href=\"#=-tf.variable_scope()...\" data-toc-modified-id=\"=-tf.variable_scope()...-5.1.1\"><span class=\"toc-item-num\">5.1.1&nbsp;&nbsp;</span>= tf.variable_scope()...</a></div><div class=\"lev3 toc-item\"><a href=\"#=-tf.get_variable_scope()...\" data-toc-modified-id=\"=-tf.get_variable_scope()...-5.1.2\"><span class=\"toc-item-num\">5.1.2&nbsp;&nbsp;</span>= tf.get_variable_scope()...</a></div><div class=\"lev2 toc-item\"><a href=\"#Variables\" data-toc-modified-id=\"Variables-5.2\"><span class=\"toc-item-num\">5.2&nbsp;&nbsp;</span>Variables</a></div><div class=\"lev3 toc-item\"><a href=\"#reuse_variables()\" data-toc-modified-id=\"reuse_variables()-5.2.1\"><span class=\"toc-item-num\">5.2.1&nbsp;&nbsp;</span>reuse_variables()</a></div><div class=\"lev3 toc-item\"><a href=\"#=-tf.get_variable()...\" data-toc-modified-id=\"=-tf.get_variable()...-5.2.2\"><span class=\"toc-item-num\">5.2.2&nbsp;&nbsp;</span>= tf.get_variable()...</a></div><div class=\"lev2 toc-item\"><a href=\"#Initializers\" data-toc-modified-id=\"Initializers-5.3\"><span class=\"toc-item-num\">5.3&nbsp;&nbsp;</span>Initializers</a></div><div class=\"lev3 toc-item\"><a href=\"#=-tf.random_normal_initializer()...\" data-toc-modified-id=\"=-tf.random_normal_initializer()...-5.3.1\"><span class=\"toc-item-num\">5.3.1&nbsp;&nbsp;</span>= tf.random_normal_initializer()...</a></div><div class=\"lev3 toc-item\"><a href=\"#Example\" data-toc-modified-id=\"Example-5.3.2\"><span class=\"toc-item-num\">5.3.2&nbsp;&nbsp;</span>Example</a></div><div class=\"lev1 toc-item\"><a href=\"#Device\" data-toc-modified-id=\"Device-6\"><span class=\"toc-item-num\">6&nbsp;&nbsp;</span>Device</a></div><div class=\"lev3 toc-item\"><a href=\"#=-tf.device()...\" data-toc-modified-id=\"=-tf.device()...-6.0.1\"><span class=\"toc-item-num\">6.0.1&nbsp;&nbsp;</span>= tf.device()...</a></div>"
   ]
  },
  {
   "cell_type": "code",
   "execution_count": 3,
   "metadata": {
    "collapsed": true
   },
   "outputs": [],
   "source": [
    "# Import tensorflow\n",
    "import tensorflow as tf"
   ]
  },
  {
   "cell_type": "markdown",
   "metadata": {},
   "source": [
    "# class tf.Tensor\n",
    "- [class tf.Tensor](https://www.tensorflow.org/versions/r0.11/api_docs/python/framework.html#Tensor)\n",
    "- A Tensor is a symbolic handle to one of the outputs of an Operation. \n",
    "- It does not hold the values of that operation's output, but instead provides a means of computing those values in a TensorFlow Session.\n",
    "- A Tensor can be passed as an input to another Operation."
   ]
  },
  {
   "cell_type": "markdown",
   "metadata": {},
   "source": [
    "## Info"
   ]
  },
  {
   "cell_type": "code",
   "execution_count": null,
   "metadata": {
    "collapsed": true
   },
   "outputs": [],
   "source": [
    "# The string name of this tensor.\n",
    "tf.Tensor.name"
   ]
  },
  {
   "cell_type": "code",
   "execution_count": null,
   "metadata": {
    "collapsed": true
   },
   "outputs": [],
   "source": [
    "# The DType of elements in this tensor.\n",
    "tf.Tensor.dtype"
   ]
  },
  {
   "cell_type": "code",
   "execution_count": null,
   "metadata": {
    "collapsed": true
   },
   "outputs": [],
   "source": [
    "# The Operation that produces this tensor as an output.\n",
    "tf.Tensor.op"
   ]
  },
  {
   "cell_type": "code",
   "execution_count": null,
   "metadata": {
    "collapsed": true
   },
   "outputs": [],
   "source": [
    "# Returns a list of Operations that consume this tensor.\n",
    "tf.Tensor.consumers()"
   ]
  },
  {
   "cell_type": "code",
   "execution_count": null,
   "metadata": {
    "collapsed": true
   },
   "outputs": [],
   "source": [
    "# The Graph that contains this tensor.\n",
    "tf.Tensor.graph"
   ]
  },
  {
   "cell_type": "code",
   "execution_count": null,
   "metadata": {
    "collapsed": true
   },
   "outputs": [],
   "source": [
    "# Get the tensors shape\n",
    "tf.Tensor.get_shape"
   ]
  },
  {
   "cell_type": "markdown",
   "metadata": {},
   "source": [
    "## Constants"
   ]
  },
  {
   "cell_type": "markdown",
   "metadata": {},
   "source": [
    "### = tf.constant()...\n",
    "- [tf.constant(value, dtype=None, shape=None, name='Const')](https://www.tensorflow.org/versions/r0.11/api_docs/python/constant_op.html#constant)"
   ]
  },
  {
   "cell_type": "code",
   "execution_count": 6,
   "metadata": {
    "collapsed": false
   },
   "outputs": [
    {
     "name": "stdout",
     "output_type": "stream",
     "text": [
      "<bound method Tensor.get_shape of <tf.Tensor 'Const:0' shape=(1, 3, 1) dtype=float32>>\n",
      "[[[ 3.]\n",
      "  [ 3.]\n",
      "  [ 3.]]]\n"
     ]
    }
   ],
   "source": [
    "# Constant Scaler\n",
    "a = tf.constant(3, dtype=tf.float32, shape=[1,3,1])\n",
    "print(a.get_shape)\n",
    "\n",
    "with tf.Session() as sess:\n",
    "    print(a.eval())"
   ]
  },
  {
   "cell_type": "code",
   "execution_count": 7,
   "metadata": {
    "collapsed": false,
    "scrolled": true
   },
   "outputs": [
    {
     "name": "stdout",
     "output_type": "stream",
     "text": [
      "<bound method Tensor.get_shape of <tf.Tensor 'Const_1:0' shape=(1, 5, 2) dtype=float32>>\n",
      "[[[ 1.  2.]\n",
      "  [ 3.  4.]\n",
      "  [ 5.  6.]\n",
      "  [ 7.  7.]\n",
      "  [ 7.  7.]]]\n"
     ]
    }
   ],
   "source": [
    "# Constant 1-D Tensor populated with value list.\n",
    "# Because there is 7 values in the list, our shape must total to 7\n",
    "b = tf.constant([1, 2, 3, 4, 5, 6, 7], dtype=tf.float32, shape=[1,5,2])\n",
    "print(b.get_shape)\n",
    "\n",
    "with tf.Session() as sess:\n",
    "    print(b.eval())"
   ]
  },
  {
   "cell_type": "markdown",
   "metadata": {},
   "source": [
    "### = tf.ones()...\n",
    "- [tf.zeros(shape, dtype=tf.float32, name=None)](https://www.tensorflow.org/versions/r0.11/api_docs/python/constant_op.html#ones)\n",
    "- I like the ones() more than the zeros() because multiplying zeros sometimes kills the data."
   ]
  },
  {
   "cell_type": "code",
   "execution_count": 2,
   "metadata": {
    "collapsed": false
   },
   "outputs": [
    {
     "name": "stdout",
     "output_type": "stream",
     "text": [
      "<bound method Tensor.get_shape of <tf.Tensor 'ones:0' shape=(3, 4) dtype=float32>>\n",
      "[[ 1.  1.  1.  1.]\n",
      " [ 1.  1.  1.  1.]\n",
      " [ 1.  1.  1.  1.]]\n"
     ]
    }
   ],
   "source": [
    "# Matrix of ones\n",
    "c = tf.ones([3, 4], dtype=tf.float32, name=None)\n",
    "print(c.get_shape)\n",
    "\n",
    "with tf.Session() as sess:\n",
    "    print(c.eval())"
   ]
  },
  {
   "cell_type": "code",
   "execution_count": 3,
   "metadata": {
    "collapsed": false,
    "scrolled": true
   },
   "outputs": [
    {
     "name": "stdout",
     "output_type": "stream",
     "text": [
      "<bound method Tensor.get_shape of <tf.Tensor 'zeros:0' shape=(4, 1) dtype=float32>>\n",
      "[[ 0.]\n",
      " [ 0.]\n",
      " [ 0.]\n",
      " [ 0.]]\n"
     ]
    }
   ],
   "source": [
    "# Matrix of zeros\n",
    "# I prefer working with ones\n",
    "c = tf.zeros([4,1], dtype=tf.float32, name=None)\n",
    "print(c.get_shape)\n",
    "\n",
    "with tf.Session() as sess:\n",
    "    print(c.eval())"
   ]
  },
  {
   "cell_type": "markdown",
   "metadata": {},
   "source": [
    "## Sequences"
   ]
  },
  {
   "cell_type": "markdown",
   "metadata": {},
   "source": [
    "### = tf.linspace()..."
   ]
  },
  {
   "cell_type": "markdown",
   "metadata": {},
   "source": [
    "[tf.linspace(start, stop, num, name=None)](https://www.tensorflow.org/versions/r0.11/api_docs/python/constant_op.html#linspace)"
   ]
  },
  {
   "cell_type": "code",
   "execution_count": 5,
   "metadata": {
    "collapsed": false,
    "scrolled": true
   },
   "outputs": [
    {
     "name": "stdout",
     "output_type": "stream",
     "text": [
      "<bound method Tensor.get_shape of <tf.Tensor 'LinSpace:0' shape=(12,) dtype=float32>>\n",
      "<bound method Tensor.get_shape of <tf.Tensor 'Reshape:0' shape=(12, 1) dtype=float32>>\n",
      "[[ 3.        ]\n",
      " [ 2.4545455 ]\n",
      " [ 1.90909088]\n",
      " [ 1.36363626]\n",
      " [ 0.81818175]\n",
      " [ 0.27272725]\n",
      " [-0.27272749]\n",
      " [-0.81818199]\n",
      " [-1.36363649]\n",
      " [-1.909091  ]\n",
      " [-2.4545455 ]\n",
      " [-3.        ]]\n"
     ]
    }
   ],
   "source": [
    "# Generates values in an interval.\n",
    "e = tf.linspace(3.0, -3.0, num=12, name=None)\n",
    "print(e.get_shape)\n",
    "e = tf.reshape(e, [12, 1])\n",
    "print(e.get_shape)\n",
    "\n",
    "with tf.Session() as sess:\n",
    "    print(e.eval())"
   ]
  },
  {
   "cell_type": "markdown",
   "metadata": {},
   "source": [
    "## Random"
   ]
  },
  {
   "cell_type": "markdown",
   "metadata": {},
   "source": [
    "### = tf.random_normal()...\n",
    "- [tf.random_normal(shape, mean=0.0, stddev=1.0, dtype=tf.float32, seed=None, name=None)](https://www.tensorflow.org/versions/r0.11/api_docs/python/constant_op.html#random_normal)"
   ]
  },
  {
   "cell_type": "code",
   "execution_count": 4,
   "metadata": {
    "collapsed": false,
    "scrolled": true
   },
   "outputs": [
    {
     "name": "stdout",
     "output_type": "stream",
     "text": [
      "<bound method Tensor.get_shape of <tf.Tensor 'random_normal:0' shape=(4, 3) dtype=float32>>\n",
      "[[ 0.39460361  0.07359695  0.87660503]\n",
      " [ 0.80379128  0.75024688 -0.50730193]\n",
      " [ 0.10537744  0.21071444 -0.20797905]\n",
      " [-0.37804595  3.23810911  0.07111907]]\n"
     ]
    }
   ],
   "source": [
    "# Matrix of zeros\n",
    "d = tf.random_normal([4,3], mean=0.0, stddev=1.0, dtype=tf.float32, seed=None, name=None)\n",
    "print(d.get_shape)\n",
    "\n",
    "with tf.Session() as sess:\n",
    "    print(d.eval())"
   ]
  },
  {
   "cell_type": "markdown",
   "metadata": {},
   "source": [
    "# Variables\n",
    "- A variable maintains state in the graph across calls to run()\n",
    "- A variable can have it's state updated between episodes"
   ]
  },
  {
   "cell_type": "markdown",
   "metadata": {},
   "source": [
    "### = tf.placeholder()...\n",
    "- [tf.placeholder(dtype, shape=None, name=None)](https://www.tensorflow.org/versions/r0.11/api_docs/python/io_ops.html#placeholder)"
   ]
  },
  {
   "cell_type": "code",
   "execution_count": null,
   "metadata": {
    "collapsed": true
   },
   "outputs": [],
   "source": [
    "# Placeholder\n",
    "px = tf.placeholder(tf.float32,[None, 13], name=\"px\")\n",
    "py = tf.placeholder(tf.float32,[None, 1], name=\"py\")"
   ]
  },
  {
   "cell_type": "markdown",
   "metadata": {},
   "source": [
    "### = tf.Variable()...\n",
    "- [tf.Variable( initial-value, name=optional-name )](https://www.tensorflow.org/versions/r0.11/api_docs/python/state_ops.html#Variable)"
   ]
  },
  {
   "cell_type": "code",
   "execution_count": 12,
   "metadata": {
    "collapsed": false,
    "scrolled": true
   },
   "outputs": [
    {
     "name": "stdout",
     "output_type": "stream",
     "text": [
      "<bound method Variable.get_shape of <tensorflow.python.ops.variables.Variable object at 0x119bb0fd0>>\n",
      "<bound method Variable.get_shape of <tensorflow.python.ops.variables.Variable object at 0x119bb0eb8>>\n",
      "<bound method Tensor.get_shape of <tf.Tensor 'Add:0' shape=(5, 2) dtype=float32>>\n",
      "[[ 101.  101.]\n",
      " [ 101.  101.]\n",
      " [ 101.  101.]\n",
      " [ 101.  101.]\n",
      " [ 101.  101.]]\n",
      "[[ 1.  1.]\n",
      " [ 1.  1.]\n",
      " [ 1.  1.]\n",
      " [ 1.  1.]\n",
      " [ 1.  1.]]\n",
      "100.0\n"
     ]
    }
   ],
   "source": [
    "w1_in = tf.Variable(tf.random_normal([N_FEATURES, N_NODES_H1]), name=\"w1\")\n",
    "b1_in = tf.Variable(tf.random_normal(shape=[N_NODES_H1, ]), name=\"b1\")"
   ]
  },
  {
   "cell_type": "markdown",
   "metadata": {},
   "source": [
    "# Shape"
   ]
  },
  {
   "cell_type": "markdown",
   "metadata": {},
   "source": [
    "### = tf.Variable.get_shape()...\n",
    "- [tf.Variable.get_shape()](https://www.tensorflow.org/versions/r0.11/api_docs/python/state_ops.html)"
   ]
  },
  {
   "cell_type": "code",
   "execution_count": 16,
   "metadata": {
    "collapsed": false,
    "scrolled": true
   },
   "outputs": [
    {
     "data": {
      "text/plain": [
       "TensorShape([Dimension(1), Dimension(3), Dimension(1)])"
      ]
     },
     "execution_count": 16,
     "metadata": {},
     "output_type": "execute_result"
    }
   ],
   "source": [
    "a.get_shape()"
   ]
  },
  {
   "cell_type": "code",
   "execution_count": 20,
   "metadata": {
    "collapsed": false
   },
   "outputs": [
    {
     "data": {
      "text/plain": [
       "[1, 3, 1]"
      ]
     },
     "execution_count": 20,
     "metadata": {},
     "output_type": "execute_result"
    }
   ],
   "source": [
    "# Get shape as list\n",
    "a.get_shape().as_list()"
   ]
  },
  {
   "cell_type": "code",
   "execution_count": 21,
   "metadata": {
    "collapsed": false,
    "scrolled": true
   },
   "outputs": [
    {
     "data": {
      "text/plain": [
       "1"
      ]
     },
     "execution_count": 21,
     "metadata": {},
     "output_type": "execute_result"
    }
   ],
   "source": [
    "# Get the shape as a list and return first value\n",
    "a.get_shape().as_list()[0]"
   ]
  },
  {
   "cell_type": "markdown",
   "metadata": {},
   "source": [
    "### = tf.reshape()...\n",
    "- [tf.reshape(tensor, shape, name=None)](https://www.tensorflow.org/versions/r0.11/api_docs/python/array_ops.html#reshape)"
   ]
  },
  {
   "cell_type": "code",
   "execution_count": 8,
   "metadata": {
    "collapsed": false,
    "scrolled": true
   },
   "outputs": [
    {
     "name": "stdout",
     "output_type": "stream",
     "text": [
      "<bound method Tensor.get_shape of <tf.Tensor 'Const_2:0' shape=(9,) dtype=int32>>\n",
      "[1 2 3 4 5 6 7 8 9]\n",
      "<bound method Tensor.get_shape of <tf.Tensor 'Reshape_1:0' shape=(3, 3) dtype=int32>>\n",
      "[[1 2 3]\n",
      " [4 5 6]\n",
      " [7 8 9]]\n"
     ]
    }
   ],
   "source": [
    "a = tf.constant([1, 2, 3, 4, 5, 6, 7, 8, 9])\n",
    "print(a.get_shape)\n",
    "\n",
    "with tf.Session() as sess:\n",
    "    print(a.eval())\n",
    "\n",
    "a = tf.reshape(a, [3, 3])\n",
    "print(a.get_shape)\n",
    "\n",
    "with tf.Session() as sess:\n",
    "    print(a.eval())"
   ]
  },
  {
   "cell_type": "markdown",
   "metadata": {},
   "source": [
    "#### + Flatten w/ [-1]..."
   ]
  },
  {
   "cell_type": "code",
   "execution_count": 10,
   "metadata": {
    "collapsed": false,
    "scrolled": true
   },
   "outputs": [
    {
     "name": "stdout",
     "output_type": "stream",
     "text": [
      "<bound method Tensor.get_shape of <tf.Tensor 'Const_4:0' shape=(3, 2, 3) dtype=int32>>\n",
      "[1 1 1 2 2 2 3 3 3 4 4 4 5 5 5 6 6 6]\n"
     ]
    }
   ],
   "source": [
    "# Shape = [3, 2, 3]\n",
    "c = tf.constant([[[1, 1, 1],\n",
    "                  [2, 2, 2]],\n",
    "                 [[3, 3, 3],\n",
    "                  [4, 4, 4]],\n",
    "                 [[5, 5, 5],\n",
    "                  [6, 6, 6]]])\n",
    "\n",
    "print(c.get_shape)\n",
    "\n",
    "# pass '[-1]' to flatten\n",
    "c = tf.reshape(c, [-1])\n",
    "\n",
    "with tf.Session() as sess:\n",
    "    print(c.eval())"
   ]
  },
  {
   "cell_type": "markdown",
   "metadata": {},
   "source": [
    "# Casting"
   ]
  },
  {
   "cell_type": "markdown",
   "metadata": {
    "collapsed": true
   },
   "source": [
    "### = tf.convert_to_tensor()...\n",
    "- [tf.convert_to_tensor(value, dtype=None, name=None, as_ref=False, preferred_dtype=None)](https://www.tensorflow.org/versions/r0.11/api_docs/python/framework.html#convert_to_tensor)\n",
    "- This function converts Python objects of various types to Tensor objects. \n",
    "- It accepts Tensor objects, numpy arrays, Python lists, and Python scalars."
   ]
  },
  {
   "cell_type": "code",
   "execution_count": 5,
   "metadata": {
    "collapsed": false
   },
   "outputs": [
    {
     "data": {
      "text/plain": [
       "<tf.Tensor 'Const:0' shape=(3, 3) dtype=float32>"
      ]
     },
     "execution_count": 5,
     "metadata": {},
     "output_type": "execute_result"
    }
   ],
   "source": [
    "import numpy as np\n",
    "import tensorflow as tf\n",
    "\n",
    "rand_array = np.asarray([[3.3, 4.4, 5.5], [3.3, 4.4, 5.5], [3.3, 4.4, 5.5]])\n",
    "\n",
    "rand_tensor = tf.convert_to_tensor(rand_array, dtype=tf.float32)\n",
    "\n",
    "rand_tensor"
   ]
  },
  {
   "cell_type": "markdown",
   "metadata": {},
   "source": [
    "## dtypes\n",
    "- [Data Types](https://www.tensorflow.org/versions/r0.11/resources/dims_types.html#data-types)\n",
    "- In addition to dimensionality, Tensors have a data type.\n",
    "- tf.float32 has gives us decimal places with 32 bits of precision, rather than the previous data types 8 bits. \n",
    "- This will become important when we start to work with neural networks, as we'll need all of those extra possible values!"
   ]
  },
  {
   "cell_type": "markdown",
   "metadata": {},
   "source": [
    "### = tf.float32..."
   ]
  },
  {
   "cell_type": "code",
   "execution_count": null,
   "metadata": {
    "collapsed": true
   },
   "outputs": [],
   "source": [
    "# tf.float32: 32 bits floating point.\n",
    "tf.constant(99.9, dtype=tf.float32, shape=None, name='Const')"
   ]
  },
  {
   "cell_type": "code",
   "execution_count": null,
   "metadata": {
    "collapsed": true
   },
   "outputs": [],
   "source": [
    "# tf.float32: 64 bits floating point.\n",
    "tf.constant(99.9, dtype=tf.float64, shape=None, name='Const')"
   ]
  },
  {
   "cell_type": "markdown",
   "metadata": {},
   "source": [
    "### = tf.uint8..."
   ]
  },
  {
   "cell_type": "code",
   "execution_count": 5,
   "metadata": {
    "collapsed": false
   },
   "outputs": [
    {
     "data": {
      "text/plain": [
       "<tf.Tensor 'Const:0' shape=() dtype=float32>"
      ]
     },
     "execution_count": 5,
     "metadata": {},
     "output_type": "execute_result"
    }
   ],
   "source": [
    "# tf.uint8: 8 bits unsigned integer.\n",
    "tf.constant(99.9, dtype=tf.uint8, shape=None, name='Const')"
   ]
  },
  {
   "cell_type": "markdown",
   "metadata": {},
   "source": [
    "### = tf.string..."
   ]
  },
  {
   "cell_type": "code",
   "execution_count": 7,
   "metadata": {
    "collapsed": false
   },
   "outputs": [
    {
     "data": {
      "text/plain": [
       "<tf.Tensor 'Const_1:0' shape=(2,) dtype=string>"
      ]
     },
     "execution_count": 7,
     "metadata": {},
     "output_type": "execute_result"
    }
   ],
   "source": [
    "# tf.string: Variable length byte arrays. Each element of a Tensor is a byte array.\n",
    "tf.constant([\"file0\", \"file1\"], dtype=tf.string, shape=None, name='Const')"
   ]
  },
  {
   "cell_type": "markdown",
   "metadata": {
    "collapsed": true
   },
   "source": [
    "# Sharing\n",
    "- When building complex models we often need to share large sets of variables.\n",
    "- TensorFlow provides a Variable Scope mechanism that allows to easily share named variables while constructing a graph."
   ]
  },
  {
   "cell_type": "markdown",
   "metadata": {},
   "source": [
    "## Scope"
   ]
  },
  {
   "cell_type": "markdown",
   "metadata": {},
   "source": [
    "### = tf.variable_scope()...\n",
    "- [Variable Scope Example](https://www.tensorflow.org/versions/r0.11/how_tos/variable_scope/index.html#variable-scope-example)\n",
    "- The function tf.get_variable() is used to get or create a variable instead of a direct call to tf.Variable. \n",
    "- It uses an initializer instead of passing the value directly, as in tf.Variable. \n",
    "- An initializer is a function that takes the shape and provides a tensor with that shape."
   ]
  },
  {
   "cell_type": "raw",
   "metadata": {},
   "source": [
    "tf.variable_scope(<scope_name>) # Manages namespaces for names passed to tf.get_variable()."
   ]
  },
  {
   "cell_type": "markdown",
   "metadata": {},
   "source": [
    "Nesting variable scopes appends their names in a way analogous to how directories work:"
   ]
  },
  {
   "cell_type": "raw",
   "metadata": {},
   "source": [
    "with tf.variable_scope(\"foo\"):\n",
    "    with tf.variable_scope(\"bar\"):\n",
    "        v = tf.get_variable(\"v\", [1])\n",
    "assert v.name == \"foo/bar/v:0\""
   ]
  },
  {
   "cell_type": "markdown",
   "metadata": {},
   "source": [
    "### = tf.get_variable_scope()..."
   ]
  },
  {
   "cell_type": "code",
   "execution_count": null,
   "metadata": {
    "collapsed": true
   },
   "outputs": [],
   "source": [
    "with tf.variable_scope(\"foo\"):\n",
    "    v = tf.get_variable(\"v\", [1])\n",
    "    tf.get_variable_scope().reuse_variables()\n",
    "    v1 = tf.get_variable(\"v\", [1])\n",
    "assert v1 is v"
   ]
  },
  {
   "cell_type": "markdown",
   "metadata": {},
   "source": [
    "## Variables"
   ]
  },
  {
   "cell_type": "markdown",
   "metadata": {},
   "source": [
    "### reuse_variables()\n",
    "- tf.get_variable() checks that already existing variables are not shared by accident. If you want to share them, you need to specify it by setting reuse_variables() as follows."
   ]
  },
  {
   "cell_type": "raw",
   "metadata": {},
   "source": [
    "with tf.variable_scope(\"image_filters\") as scope:\n",
    "    \n",
    "    result1 = my_image_filter(image1)\n",
    "   \n",
    "    # Reuse lets us run the exact same function, under the same scope twice.\n",
    "    scope.reuse_variables()\n",
    "    \n",
    "    result2 = my_image_filter(image2)"
   ]
  },
  {
   "cell_type": "markdown",
   "metadata": {},
   "source": [
    "### = tf.get_variable()...\n",
    "- [tf.get_variable(name, shape, dtype, initializer)](https://www.tensorflow.org/versions/r0.11/how_tos/variable_scope/index.html#understanding-tf-get-variable)\n",
    "- get_variable() does one of two things depending on the scope it is called in.\n",
    " - **If reuse is false:** Then we get a newly created tf.Variable()\n",
    " - **If reuse is true:** Then the call will search for an already existing variable with name equal to the current variable scope name + the provided name. If no such variable exists, a ValueError will be raised."
   ]
  },
  {
   "cell_type": "raw",
   "metadata": {
    "collapsed": true
   },
   "source": [
    "tf.get_variable(<name>, <shape>, <initializer>) # Creates or returns a variable with a given name."
   ]
  },
  {
   "cell_type": "markdown",
   "metadata": {},
   "source": [
    "## Initializers\n",
    "- An initializer is a function that takes the shape and provides a tensor with that shape."
   ]
  },
  {
   "cell_type": "markdown",
   "metadata": {},
   "source": [
    "### = tf.random_normal_initializer()..."
   ]
  },
  {
   "cell_type": "raw",
   "metadata": {},
   "source": [
    "tf.random_normal_initializer(mean, stddev) # initializes from the normal distribution with the given mean and standard deviation."
   ]
  },
  {
   "cell_type": "raw",
   "metadata": {},
   "source": [
    "tf.constant_initializer(value) # initializes everything to the provided value,"
   ]
  },
  {
   "cell_type": "raw",
   "metadata": {},
   "source": [
    "tf.random_uniform_initializer(a, b) # initializes uniformly from [a, b],"
   ]
  },
  {
   "cell_type": "markdown",
   "metadata": {},
   "source": [
    "### Example"
   ]
  },
  {
   "cell_type": "markdown",
   "metadata": {},
   "source": [
    "- This function uses short names \"weights\" and \"biases\". We'd like to use it for both conv1 and conv2, but the variables need to have different names. This is where tf.variable_scope() comes into play: it pushes a namespace for variables."
   ]
  },
  {
   "cell_type": "raw",
   "metadata": {},
   "source": [
    "def conv_relu(input, kernel_shape, bias_shape):\n",
    "    \n",
    "    # Create variable named \"weights\".\n",
    "    weights = tf.get_variable(\"weights\", kernel_shape, initializer=tf.random_normal_initializer())\n",
    "    \n",
    "    # Create variable named \"biases\".\n",
    "    biases = tf.get_variable(\"biases\", bias_shape, initializer=tf.constant_initializer(0.0))\n",
    "    \n",
    "    conv = tf.nn.conv2d(input, weights,\n",
    "        strides=[1, 1, 1, 1], padding='SAME')\n",
    "    \n",
    "    return tf.nn.relu(conv + biases)\n",
    "    \n",
    "    \n",
    "    \n",
    "def my_image_filter(input_images):\n",
    "    \n",
    "    with tf.variable_scope(\"conv1\"):\n",
    "        # Variables created here will be named \"conv1/weights\", \"conv1/biases\".\n",
    "        relu1 = conv_relu(input_images, [5, 5, 32, 32], [32])\n",
    "    \n",
    "    with tf.variable_scope(\"conv2\"):\n",
    "        # Variables created here will be named \"conv2/weights\", \"conv2/biases\".\n",
    "        return conv_relu(relu1, [5, 5, 32, 32], [32])"
   ]
  },
  {
   "cell_type": "code",
   "execution_count": null,
   "metadata": {
    "collapsed": true
   },
   "outputs": [],
   "source": []
  },
  {
   "cell_type": "code",
   "execution_count": null,
   "metadata": {
    "collapsed": true
   },
   "outputs": [],
   "source": []
  },
  {
   "cell_type": "markdown",
   "metadata": {
    "collapsed": true
   },
   "source": [
    "# Device\n",
    "- [Device Placement](https://www.tensorflow.org/versions/r0.11/how_tos/variables/index.html#device-placement)\n",
    "- A variable can be pinned to a particular device when it is created, using a with tf.device(...): block:"
   ]
  },
  {
   "cell_type": "markdown",
   "metadata": {},
   "source": [
    "### = tf.device()..."
   ]
  },
  {
   "cell_type": "raw",
   "metadata": {
    "collapsed": true
   },
   "source": [
    "# Pin a variable to CPU.\n",
    "with tf.device(\"/cpu:0\"):\n",
    "    v = tf.Variable(...)\n",
    "\n",
    "# Pin a variable to GPU.\n",
    "with tf.device(\"/gpu:0\"):\n",
    "    v = tf.Variable(...)\n",
    "\n",
    "# Pin a variable to a particular parameter server task.\n",
    "with tf.device(\"/job:ps/task:7\"):\n",
    "    v = tf.Variable(...)"
   ]
  },
  {
   "cell_type": "code",
   "execution_count": null,
   "metadata": {
    "collapsed": true
   },
   "outputs": [],
   "source": []
  },
  {
   "cell_type": "code",
   "execution_count": null,
   "metadata": {
    "collapsed": true
   },
   "outputs": [],
   "source": []
  },
  {
   "cell_type": "code",
   "execution_count": null,
   "metadata": {
    "collapsed": true
   },
   "outputs": [],
   "source": []
  }
 ],
 "metadata": {
  "kernelspec": {
   "display_name": "Python [Root]",
   "language": "python",
   "name": "Python [Root]"
  },
  "language_info": {
   "codemirror_mode": {
    "name": "ipython",
    "version": 3
   },
   "file_extension": ".py",
   "mimetype": "text/x-python",
   "name": "python",
   "nbconvert_exporter": "python",
   "pygments_lexer": "ipython3",
   "version": "3.5.2"
  },
  "nav_menu": {},
  "toc": {
   "navigate_menu": true,
   "number_sections": true,
   "sideBar": true,
   "threshold": 6,
   "toc_cell": true,
   "toc_section_display": "block",
   "toc_window_display": true
  },
  "toc_position": {
   "height": "574px",
   "left": "0px",
   "right": "1222px",
   "top": "106px",
   "width": "248px"
  }
 },
 "nbformat": 4,
 "nbformat_minor": 0
}
