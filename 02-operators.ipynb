{
 "cells": [
  {
   "cell_type": "markdown",
   "metadata": {
    "toc": "true"
   },
   "source": [
    "# Table of Contents\n",
    " <p><div class=\"lev1 toc-item\"><a href=\"#Class-tf.Operation\" data-toc-modified-id=\"Class-tf.Operation-1\"><span class=\"toc-item-num\">1&nbsp;&nbsp;</span>Class tf.Operation</a></div><div class=\"lev3 toc-item\"><a href=\"#=-Names...\" data-toc-modified-id=\"=-Names...-1.0.1\"><span class=\"toc-item-num\">1.0.1&nbsp;&nbsp;</span>= Names...</a></div><div class=\"lev3 toc-item\"><a href=\"#=-Inputs/Outputs...\" data-toc-modified-id=\"=-Inputs/Outputs...-1.0.2\"><span class=\"toc-item-num\">1.0.2&nbsp;&nbsp;</span>= Inputs/Outputs...</a></div><div class=\"lev3 toc-item\"><a href=\"#=-Executing...\" data-toc-modified-id=\"=-Executing...-1.0.3\"><span class=\"toc-item-num\">1.0.3&nbsp;&nbsp;</span>= Executing...</a></div><div class=\"lev1 toc-item\"><a href=\"#Operations\" data-toc-modified-id=\"Operations-2\"><span class=\"toc-item-num\">2&nbsp;&nbsp;</span>Operations</a></div><div class=\"lev3 toc-item\"><a href=\"#=-tf.nn.xw_plus_b()...\" data-toc-modified-id=\"=-tf.nn.xw_plus_b()...-2.0.1\"><span class=\"toc-item-num\">2.0.1&nbsp;&nbsp;</span>= tf.nn.xw_plus_b()...</a></div><div class=\"lev3 toc-item\"><a href=\"#=-tf.unique_with_counts()...\" data-toc-modified-id=\"=-tf.unique_with_counts()...-2.0.2\"><span class=\"toc-item-num\">2.0.2&nbsp;&nbsp;</span>= tf.unique_with_counts()...</a></div><div class=\"lev1 toc-item\"><a href=\"#Basic-Math\" data-toc-modified-id=\"Basic-Math-3\"><span class=\"toc-item-num\">3&nbsp;&nbsp;</span>Basic Math</a></div><div class=\"lev3 toc-item\"><a href=\"#=-tf.mul()...\" data-toc-modified-id=\"=-tf.mul()...-3.0.1\"><span class=\"toc-item-num\">3.0.1&nbsp;&nbsp;</span>= tf.mul()...</a></div><div class=\"lev3 toc-item\"><a href=\"#=-tf.pow()...\" data-toc-modified-id=\"=-tf.pow()...-3.0.2\"><span class=\"toc-item-num\">3.0.2&nbsp;&nbsp;</span>= tf.pow()...</a></div><div class=\"lev3 toc-item\"><a href=\"#=-tf.square()...\" data-toc-modified-id=\"=-tf.square()...-3.0.3\"><span class=\"toc-item-num\">3.0.3&nbsp;&nbsp;</span>= tf.square()...</a></div><div class=\"lev3 toc-item\"><a href=\"#=-tf.sqrt()...\" data-toc-modified-id=\"=-tf.sqrt()...-3.0.4\"><span class=\"toc-item-num\">3.0.4&nbsp;&nbsp;</span>= tf.sqrt()...</a></div><div class=\"lev3 toc-item\"><a href=\"#=-tf.squared_difference()...\" data-toc-modified-id=\"=-tf.squared_difference()...-3.0.5\"><span class=\"toc-item-num\">3.0.5&nbsp;&nbsp;</span>= tf.squared_difference()...</a></div><div class=\"lev1 toc-item\"><a href=\"#Matrix\" data-toc-modified-id=\"Matrix-4\"><span class=\"toc-item-num\">4&nbsp;&nbsp;</span>Matrix</a></div><div class=\"lev3 toc-item\"><a href=\"#=-tf.scalar_mul()...\" data-toc-modified-id=\"=-tf.scalar_mul()...-4.0.1\"><span class=\"toc-item-num\">4.0.1&nbsp;&nbsp;</span>= tf.scalar_mul()...</a></div><div class=\"lev3 toc-item\"><a href=\"#=-tf.matmul()...\" data-toc-modified-id=\"=-tf.matmul()...-4.0.2\"><span class=\"toc-item-num\">4.0.2&nbsp;&nbsp;</span>= tf.matmul()...</a></div><div class=\"lev3 toc-item\"><a href=\"#=-tf.matrix_inverse()...\" data-toc-modified-id=\"=-tf.matrix_inverse()...-4.0.3\"><span class=\"toc-item-num\">4.0.3&nbsp;&nbsp;</span>= tf.matrix_inverse()...</a></div><div class=\"lev3 toc-item\"><a href=\"#tf.transpose()...\" data-toc-modified-id=\"tf.transpose()...-4.0.4\"><span class=\"toc-item-num\">4.0.4&nbsp;&nbsp;</span>tf.transpose()...</a></div><div class=\"lev1 toc-item\"><a href=\"#Reduction\" data-toc-modified-id=\"Reduction-5\"><span class=\"toc-item-num\">5&nbsp;&nbsp;</span>Reduction</a></div><div class=\"lev3 toc-item\"><a href=\"#=-tf.reduce_sum()...\" data-toc-modified-id=\"=-tf.reduce_sum()...-5.0.1\"><span class=\"toc-item-num\">5.0.1&nbsp;&nbsp;</span>= tf.reduce_sum()...</a></div><div class=\"lev3 toc-item\"><a href=\"#=-tf.reduce_mean()...\" data-toc-modified-id=\"=-tf.reduce_mean()...-5.0.2\"><span class=\"toc-item-num\">5.0.2&nbsp;&nbsp;</span>= tf.reduce_mean()...</a></div><div class=\"lev1 toc-item\"><a href=\"#Control-Flow\" data-toc-modified-id=\"Control-Flow-6\"><span class=\"toc-item-num\">6&nbsp;&nbsp;</span>Control Flow</a></div><div class=\"lev3 toc-item\"><a href=\"#=-tf.logical_or()...\" data-toc-modified-id=\"=-tf.logical_or()...-6.0.1\"><span class=\"toc-item-num\">6.0.1&nbsp;&nbsp;</span>= tf.logical_or()...</a></div><div class=\"lev1 toc-item\"><a href=\"#Comparison\" data-toc-modified-id=\"Comparison-7\"><span class=\"toc-item-num\">7&nbsp;&nbsp;</span>Comparison</a></div><div class=\"lev3 toc-item\"><a href=\"#=-tf.equal()...\" data-toc-modified-id=\"=-tf.equal()...-7.0.1\"><span class=\"toc-item-num\">7.0.1&nbsp;&nbsp;</span>= tf.equal()...</a></div><div class=\"lev1 toc-item\"><a href=\"#Debugging\" data-toc-modified-id=\"Debugging-8\"><span class=\"toc-item-num\">8&nbsp;&nbsp;</span>Debugging</a></div><div class=\"lev3 toc-item\"><a href=\"#=-tf.is_nan()...\" data-toc-modified-id=\"=-tf.is_nan()...-8.0.1\"><span class=\"toc-item-num\">8.0.1&nbsp;&nbsp;</span>= tf.is_nan()...</a></div><div class=\"lev3 toc-item\"><a href=\"#=-tf.Print()...\" data-toc-modified-id=\"=-tf.Print()...-8.0.2\"><span class=\"toc-item-num\">8.0.2&nbsp;&nbsp;</span>= tf.Print()...</a></div>"
   ]
  },
  {
   "cell_type": "code",
   "execution_count": 2,
   "metadata": {
    "collapsed": true
   },
   "outputs": [],
   "source": [
    "# Import tensorflow\n",
    "import tensorflow as tf"
   ]
  },
  {
   "cell_type": "markdown",
   "metadata": {},
   "source": [
    "# Class tf.Operation\n",
    "- [class tf.Operation](https://www.tensorflow.org/versions/r0.11/api_docs/python/framework.html#Operation)\n",
    "- An Operation is a node in a TensorFlow Graph that takes zero or more Tensor objects as input, and produces zero or more Tensor objects as output."
   ]
  },
  {
   "cell_type": "markdown",
   "metadata": {},
   "source": [
    "### = Names..."
   ]
  },
  {
   "cell_type": "code",
   "execution_count": 8,
   "metadata": {
    "collapsed": false
   },
   "outputs": [
    {
     "data": {
      "text/plain": [
       "<property at 0x1107b79a8>"
      ]
     },
     "execution_count": 8,
     "metadata": {},
     "output_type": "execute_result"
    }
   ],
   "source": [
    "# The full name of this operation.\n",
    "tf.Operation.name"
   ]
  },
  {
   "cell_type": "code",
   "execution_count": 9,
   "metadata": {
    "collapsed": false
   },
   "outputs": [
    {
     "data": {
      "text/plain": [
       "<property at 0x1107b7a48>"
      ]
     },
     "execution_count": 9,
     "metadata": {},
     "output_type": "execute_result"
    }
   ],
   "source": [
    "# The name of the device to which this op has been assigned, if any.\n",
    "tf.Operation.device"
   ]
  },
  {
   "cell_type": "code",
   "execution_count": 10,
   "metadata": {
    "collapsed": false
   },
   "outputs": [
    {
     "data": {
      "text/plain": [
       "<property at 0x1107b7c78>"
      ]
     },
     "execution_count": 10,
     "metadata": {},
     "output_type": "execute_result"
    }
   ],
   "source": [
    "# The Graph that contains this operation.\n",
    "tf.Operation.graph"
   ]
  },
  {
   "cell_type": "markdown",
   "metadata": {},
   "source": [
    "### = Inputs/Outputs..."
   ]
  },
  {
   "cell_type": "code",
   "execution_count": 11,
   "metadata": {
    "collapsed": false
   },
   "outputs": [
    {
     "data": {
      "text/plain": [
       "<property at 0x1107b7b38>"
      ]
     },
     "execution_count": 11,
     "metadata": {},
     "output_type": "execute_result"
    }
   ],
   "source": [
    "# The list of Tensor objects representing the data inputs of this op.\n",
    "tf.Operation.inputs"
   ]
  },
  {
   "cell_type": "code",
   "execution_count": 12,
   "metadata": {
    "collapsed": false
   },
   "outputs": [
    {
     "data": {
      "text/plain": [
       "<property at 0x1107b7a98>"
      ]
     },
     "execution_count": 12,
     "metadata": {},
     "output_type": "execute_result"
    }
   ],
   "source": [
    "# The list of Tensor objects representing the outputs of this op.\n",
    "tf.Operation.outputs"
   ]
  },
  {
   "cell_type": "markdown",
   "metadata": {},
   "source": [
    "### = Executing..."
   ]
  },
  {
   "cell_type": "code",
   "execution_count": null,
   "metadata": {
    "collapsed": true
   },
   "outputs": [],
   "source": [
    "# Runs this operation in a Session.\n",
    "tf.Operation.run(feed_dict=None, session=None)"
   ]
  },
  {
   "cell_type": "code",
   "execution_count": 13,
   "metadata": {
    "collapsed": false
   },
   "outputs": [
    {
     "data": {
      "text/plain": [
       "<property at 0x1107b7d68>"
      ]
     },
     "execution_count": 13,
     "metadata": {},
     "output_type": "execute_result"
    }
   ],
   "source": [
    "# Returns the call stack from when this operation was constructed.\n",
    "tf.Operation.traceback"
   ]
  },
  {
   "cell_type": "markdown",
   "metadata": {},
   "source": [
    "# Operations"
   ]
  },
  {
   "cell_type": "markdown",
   "metadata": {},
   "source": [
    "### = tf.nn.xw_plus_b()...\n",
    "[Method exists but is not documented](https://github.com/tensorflow/tensorflow/issues/1434)"
   ]
  },
  {
   "cell_type": "code",
   "execution_count": null,
   "metadata": {
    "collapsed": true
   },
   "outputs": [],
   "source": [
    "# Activity\n",
    "a2 = tf.nn.xw_plus_b(h1, w2, b2)"
   ]
  },
  {
   "cell_type": "markdown",
   "metadata": {},
   "source": [
    "### = tf.unique_with_counts()...\n",
    "- [tf.unique_with_counts(x, out_idx=None, name=None)](https://www.tensorflow.org/versions/r0.11/api_docs/python/array_ops.html#unique_with_counts)"
   ]
  },
  {
   "cell_type": "raw",
   "metadata": {},
   "source": [
    "# tensor 'x' is [1, 1, 2, 4, 4, 4, 7, 8, 8]\n",
    "y, idx, count = unique_with_counts(x)\n",
    "y ==> [1, 2, 4, 7, 8]\n",
    "idx ==> [0, 0, 1, 2, 2, 2, 3, 4, 4]\n",
    "count ==> [2, 1, 3, 1, 2]"
   ]
  },
  {
   "cell_type": "markdown",
   "metadata": {},
   "source": [
    "# Basic Math\n",
    "- [Basic Math](https://www.tensorflow.org/versions/r0.11/api_docs/python/math_ops.html#basic-math-functions)"
   ]
  },
  {
   "cell_type": "markdown",
   "metadata": {},
   "source": [
    "### = tf.mul()...\n",
    "- [tf.mul(x, y, name=None)](https://www.tensorflow.org/versions/r0.11/api_docs/python/math_ops.html#mul)"
   ]
  },
  {
   "cell_type": "code",
   "execution_count": 4,
   "metadata": {
    "collapsed": false
   },
   "outputs": [
    {
     "name": "stdout",
     "output_type": "stream",
     "text": [
      "<bound method Tensor.get_shape of <tf.Tensor 'Const_1:0' shape=() dtype=int32>>\n",
      "<bound method Tensor.get_shape of <tf.Tensor 'Const_2:0' shape=() dtype=int32>>\n",
      "<bound method Tensor.get_shape of <tf.Tensor 'Mul:0' shape=() dtype=int32>>\n",
      "15\n"
     ]
    },
    {
     "data": {
      "text/plain": [
       "15"
      ]
     },
     "execution_count": 4,
     "metadata": {},
     "output_type": "execute_result"
    }
   ],
   "source": [
    "a = tf.constant(3)\n",
    "print(a.get_shape)\n",
    "b = tf.constant(5)\n",
    "print(b.get_shape)\n",
    "\n",
    "m = tf.mul(a,b)\n",
    "print(m.get_shape)\n",
    "\n",
    "with tf.Session() as sess:\n",
    "    print(m.eval())\n",
    "\n",
    "3*5"
   ]
  },
  {
   "cell_type": "code",
   "execution_count": 5,
   "metadata": {
    "collapsed": false
   },
   "outputs": [
    {
     "name": "stdout",
     "output_type": "stream",
     "text": [
      "<bound method Tensor.get_shape of <tf.Tensor 'Const_3:0' shape=(3,) dtype=int32>>\n",
      "<bound method Tensor.get_shape of <tf.Tensor 'Const_4:0' shape=(3,) dtype=int32>>\n",
      "<bound method Tensor.get_shape of <tf.Tensor 'Mul_1:0' shape=(3,) dtype=int32>>\n",
      "[18 10  4]\n"
     ]
    },
    {
     "data": {
      "text/plain": [
       "(18, 10, 4)"
      ]
     },
     "execution_count": 5,
     "metadata": {},
     "output_type": "execute_result"
    }
   ],
   "source": [
    "a = tf.constant([3,2,1])\n",
    "print(a.get_shape)\n",
    "b = tf.constant([6,5,4])\n",
    "print(b.get_shape)\n",
    "\n",
    "mm = tf.mul(a,b)\n",
    "print(mm.get_shape)\n",
    "\n",
    "with tf.Session() as sess:\n",
    "    print(mm.eval())\n",
    "\n",
    "6*3, 2*5, 1*4"
   ]
  },
  {
   "cell_type": "markdown",
   "metadata": {},
   "source": [
    "### = tf.pow()...\n",
    "- [tf.pow(x, y, name=None)](https://www.tensorflow.org/versions/r0.11/api_docs/python/math_ops.html#pow)"
   ]
  },
  {
   "cell_type": "code",
   "execution_count": 4,
   "metadata": {
    "collapsed": false
   },
   "outputs": [
    {
     "name": "stdout",
     "output_type": "stream",
     "text": [
      "<bound method Tensor.get_shape of <tf.Tensor 'Const_4:0' shape=(2, 2) dtype=int32>>\n",
      "<bound method Tensor.get_shape of <tf.Tensor 'Const_5:0' shape=(1, 2) dtype=int32>>\n",
      "<bound method Tensor.get_shape of <tf.Tensor 'Pow:0' shape=(2, 2) dtype=int32>>\n",
      "[[     256    65536]\n",
      " [    6561 43046721]]\n",
      "256 65536\n",
      "9 27\n"
     ]
    }
   ],
   "source": [
    "# If tensors are the same size it works like they are layed on top of one another\n",
    "c = tf.constant([[2, 2], [3, 3]])\n",
    "print(c.get_shape)\n",
    "d = tf.constant([[8, 16], [2, 3]])\n",
    "print(d.get_shape)\n",
    "\n",
    "p = tf.pow(c, d)\n",
    "print(p.get_shape)\n",
    "\n",
    "\n",
    "with tf.Session() as sess:\n",
    "    print(p.eval())\n",
    "\n",
    "print(2**8, 2**16)\n",
    "print(3**2, 3**3)"
   ]
  },
  {
   "cell_type": "code",
   "execution_count": 9,
   "metadata": {
    "collapsed": false,
    "scrolled": false
   },
   "outputs": [
    {
     "name": "stdout",
     "output_type": "stream",
     "text": [
      "<bound method Tensor.get_shape of <tf.Tensor 'Const_13:0' shape=(2, 2) dtype=int32>>\n",
      "<bound method Tensor.get_shape of <tf.Tensor 'Const_14:0' shape=(1, 2) dtype=int32>>\n",
      "<bound method Tensor.get_shape of <tf.Tensor 'Pow_3:0' shape=(2, 2) dtype=int32>>\n",
      "[[     256    65536]\n",
      " [    6561 43046721]]\n",
      "256 65536\n",
      "9 27\n"
     ]
    }
   ],
   "source": [
    "# If rows are missing in the second array the lone data is squared\n",
    "c = tf.constant([[2, 2], [3, 3]])\n",
    "print(c.get_shape)\n",
    "d = tf.constant([[8, 16]])\n",
    "print(d.get_shape)\n",
    "\n",
    "p = tf.pow(c, d)\n",
    "print(p.get_shape)\n",
    "\n",
    "\n",
    "with tf.Session() as sess:\n",
    "    print(p.eval())\n",
    "\n",
    "print(2**8, 2**16)\n",
    "print(3**2, 3**3)"
   ]
  },
  {
   "cell_type": "markdown",
   "metadata": {},
   "source": [
    "### = tf.square()...\n",
    "- [tf.square(x, name=None)](https://www.tensorflow.org/versions/r0.11/api_docs/python/math_ops.html#square)"
   ]
  },
  {
   "cell_type": "raw",
   "metadata": {},
   "source": [
    "tf.square(x, name=None)"
   ]
  },
  {
   "cell_type": "markdown",
   "metadata": {},
   "source": [
    "### = tf.sqrt()...\n",
    "- [tf.sqrt(x, name=None)](https://www.tensorflow.org/versions/r0.11/api_docs/python/math_ops.html#sqrt)"
   ]
  },
  {
   "cell_type": "code",
   "execution_count": null,
   "metadata": {
    "collapsed": true
   },
   "outputs": [],
   "source": [
    "tf.sqrt(x, name=None)"
   ]
  },
  {
   "cell_type": "markdown",
   "metadata": {},
   "source": [
    "### = tf.squared_difference()...\n",
    "- [tf.squared_difference(x, y, name=None)](https://www.tensorflow.org/versions/r0.11/api_docs/python/math_ops.html#squared_difference)"
   ]
  },
  {
   "cell_type": "raw",
   "metadata": {},
   "source": [
    "tf.squared_difference(x, y, name=None)"
   ]
  },
  {
   "cell_type": "markdown",
   "metadata": {},
   "source": [
    "# Matrix\n",
    "- [Matrix Operation](https://www.tensorflow.org/versions/r0.11/api_docs/python/math_ops.html#matrix-math-functions)"
   ]
  },
  {
   "cell_type": "markdown",
   "metadata": {},
   "source": [
    "### = tf.scalar_mul()...\n",
    "- [tf.scalar_mul(scalar, x)](https://www.tensorflow.org/versions/r0.11/api_docs/python/math_ops.html#scalar_mul)"
   ]
  },
  {
   "cell_type": "code",
   "execution_count": null,
   "metadata": {
    "collapsed": true
   },
   "outputs": [],
   "source": [
    "tf.scalar_mul(scalar, x)"
   ]
  },
  {
   "cell_type": "markdown",
   "metadata": {},
   "source": [
    "### = tf.matmul()...\n",
    "- [tf.matmul(a, b, transpose_a=False, transpose_b=False, a_is_sparse=False, b_is_sparse=False, name=None)](https://www.tensorflow.org/versions/r0.11/api_docs/python/math_ops.html#matmul)"
   ]
  },
  {
   "cell_type": "code",
   "execution_count": 6,
   "metadata": {
    "collapsed": false
   },
   "outputs": [
    {
     "name": "stdout",
     "output_type": "stream",
     "text": [
      "<bound method Tensor.get_shape of <tf.Tensor 'Const_5:0' shape=(2, 3) dtype=int32>>\n",
      "<bound method Tensor.get_shape of <tf.Tensor 'Const_6:0' shape=(3, 2) dtype=int32>>\n",
      "<bound method Tensor.get_shape of <tf.Tensor 'MatMul:0' shape=(2, 2) dtype=int32>>\n",
      "[[ 58  64]\n",
      " [139 154]]\n"
     ]
    }
   ],
   "source": [
    "# 2-D tensor `a`\n",
    "a = tf.constant([1, 2, 3, 4, 5, 6], shape=[2, 3])\n",
    "print(a.get_shape)\n",
    "                                                      \n",
    "# 2-D tensor `b`\n",
    "b = tf.constant([7, 8, 9, 10, 11, 12], shape=[3, 2])\n",
    "print(b.get_shape)\n",
    "\n",
    "mm = tf.matmul(a, b)\n",
    "print(mm.get_shape)\n",
    "\n",
    "with tf.Session() as sess:\n",
    "    print(mm.eval())"
   ]
  },
  {
   "cell_type": "markdown",
   "metadata": {},
   "source": [
    "### = tf.matrix_inverse()...\n",
    "- [tf.matrix_inverse(input, adjoint=None, name=None)](https://www.tensorflow.org/versions/r0.11/api_docs/python/math_ops.html#matrix_inverse)\n",
    "- This is an operation that returns our identity matrix of horizontal ones."
   ]
  },
  {
   "cell_type": "raw",
   "metadata": {},
   "source": [
    "# Matrix Inversion\n",
    "tf.matrix_inverse(input, adjoint=None, name=None)"
   ]
  },
  {
   "cell_type": "markdown",
   "metadata": {},
   "source": [
    "### = tf.transpose()...\n",
    "- [tf.transpose(a, perm=None, name='transpose')](https://www.tensorflow.org/versions/r0.11/api_docs/python/array_ops.html#transpose)\n",
    "- Transposes a. Permutes the dimensions according to perm.\n",
    "- The returned tensor's dimension i will correspond to the input dimension perm[i]. If perm is not given, it is set to (n-1...0), where n is the rank of the input tensor. Hence by default, this operation performs a regular matrix transpose on 2-D input Tensors."
   ]
  },
  {
   "cell_type": "raw",
   "metadata": {},
   "source": [
    "# 'x' is [[1 2 3]\n",
    "#         [4 5 6]]\n",
    "tf.transpose(x) ==> [[1 4]\n",
    "                     [2 5]\n",
    "                     [3 6]]\n",
    "\n",
    "# Equivalently\n",
    "tf.transpose(x, perm=[1, 0]) ==> [[1 4]\n",
    "                                  [2 5]\n",
    "                                  [3 6]]"
   ]
  },
  {
   "cell_type": "markdown",
   "metadata": {},
   "source": [
    "# Reduction\n",
    "- [Reduction Operations](https://www.tensorflow.org/versions/r0.11/api_docs/python/math_ops.html#reduction)"
   ]
  },
  {
   "cell_type": "markdown",
   "metadata": {},
   "source": [
    "### = tf.reduce_sum()...\n",
    "- [tf.reduce_sum(input_tensor, reduction_indices=None, keep_dims=False, name=None)](https://www.tensorflow.org/versions/r0.11/api_docs/python/math_ops.html#reduce_sum)\n",
    "- Computes the sum of elements across along the dimensions given in reduction_indices.\n",
    "- Unless keep_dims is true, the rank of the tensor is reduced by 1 for each entry in reduction_indices.\n",
    "- If keep_dims is true, the reduced dimensions are retained with length 1."
   ]
  },
  {
   "cell_type": "code",
   "execution_count": 16,
   "metadata": {
    "collapsed": false
   },
   "outputs": [
    {
     "name": "stdout",
     "output_type": "stream",
     "text": [
      "<bound method Tensor.get_shape of <tf.Tensor 'Const_20:0' shape=(2, 3) dtype=int32>>\n",
      "[3 3]\n"
     ]
    }
   ],
   "source": [
    "e = tf.constant([[1, 1, 1],\n",
    "                 [1, 1, 1]])\n",
    "print(e.get_shape)\n",
    "\n",
    "#flattens all rows then sums\n",
    "f = tf.reduce_sum(e) # ==> 6\n",
    "f = tf.reduce_sum(e, 0) # ==> [2, 2, 2]\n",
    "f = tf.reduce_sum(e, 1) # ==> [3, 3]\n",
    "#f = tf.reduce_sum(e, 1, keep_dims=True) # ==> [[3], [3]]\n",
    "#f = tf.reduce_sum(e, [0, 1]) # ==> 6\n",
    "\n",
    "with tf.Session() as sess:\n",
    "    print(f.eval())"
   ]
  },
  {
   "cell_type": "markdown",
   "metadata": {},
   "source": [
    "### = tf.reduce_mean()...\n",
    "- [tf.reduce_mean(input_tensor, reduction_indices=None, keep_dims=False, name=None)](https://www.tensorflow.org/versions/r0.11/api_docs/python/math_ops.html#reduce_mean)"
   ]
  },
  {
   "cell_type": "raw",
   "metadata": {},
   "source": [
    "# Computes the mean of elements across dimensions of a tensor.\n",
    "\n",
    "# 'x' is [[1., 1.]\n",
    "#         [2., 2.]]\n",
    "tf.reduce_mean(x) ==> 1.5\n",
    "tf.reduce_mean(x, 0) ==> [1.5, 1.5]\n",
    "tf.reduce_mean(x, 1) ==> [1.,  2.]"
   ]
  },
  {
   "cell_type": "markdown",
   "metadata": {},
   "source": [
    "# Logical Operators\n",
    "- [Logical Operators](https://www.tensorflow.org/versions/r0.11/api_docs/python/control_flow_ops.html#logical-operators) "
   ]
  },
  {
   "cell_type": "markdown",
   "metadata": {},
   "source": [
    "### = tf.logical_or()...\n",
    "- [tf.logical_or(x, y, name=None)](https://www.tensorflow.org/versions/r0.11/api_docs/python/control_flow_ops.html#logical_or)"
   ]
  },
  {
   "cell_type": "markdown",
   "metadata": {},
   "source": [
    "tf.logical_or(x, y, name=None)"
   ]
  },
  {
   "cell_type": "markdown",
   "metadata": {},
   "source": [
    "# Comparison\n",
    "- [Comparison Operators](https://www.tensorflow.org/versions/r0.11/api_docs/python/control_flow_ops.html#comparison-operators)"
   ]
  },
  {
   "cell_type": "markdown",
   "metadata": {},
   "source": [
    "### = tf.equal()...\n",
    "- [tf.equal(x, y, name=None)](https://www.tensorflow.org/versions/r0.11/api_docs/python/control_flow_ops.html#equal)"
   ]
  },
  {
   "cell_type": "raw",
   "metadata": {},
   "source": [
    "tf.equal(x, y, name=None)"
   ]
  },
  {
   "cell_type": "markdown",
   "metadata": {},
   "source": [
    "# Debugging\n",
    "- [Debugging Operations](https://www.tensorflow.org/versions/r0.11/api_docs/python/control_flow_ops.html#debugging-operations)"
   ]
  },
  {
   "cell_type": "markdown",
   "metadata": {},
   "source": [
    "### = tf.is_nan()...\n",
    "- [tf.is_nan(x, name=None)](https://www.tensorflow.org/versions/r0.11/api_docs/python/control_flow_ops.html#is_nan)"
   ]
  },
  {
   "cell_type": "code",
   "execution_count": null,
   "metadata": {
    "collapsed": true
   },
   "outputs": [],
   "source": [
    "tf.is_nan(x, name=None)"
   ]
  },
  {
   "cell_type": "markdown",
   "metadata": {},
   "source": [
    "### = tf.Print()...\n",
    "- [tf.Print(input_, data, message=None, first_n=None, summarize=None, name=None)](https://www.tensorflow.org/versions/r0.11/api_docs/python/control_flow_ops.html#Print)"
   ]
  },
  {
   "cell_type": "code",
   "execution_count": null,
   "metadata": {
    "collapsed": true
   },
   "outputs": [],
   "source": [
    "# Prints a list of tensors.\n",
    "tf.Print(input_, data, message=None, first_n=None, summarize=None, name=None)"
   ]
  },
  {
   "cell_type": "code",
   "execution_count": null,
   "metadata": {
    "collapsed": true
   },
   "outputs": [],
   "source": []
  }
 ],
 "metadata": {
  "kernelspec": {
   "display_name": "Python [Root]",
   "language": "python",
   "name": "Python [Root]"
  },
  "language_info": {
   "codemirror_mode": {
    "name": "ipython",
    "version": 3
   },
   "file_extension": ".py",
   "mimetype": "text/x-python",
   "name": "python",
   "nbconvert_exporter": "python",
   "pygments_lexer": "ipython3",
   "version": "3.5.2"
  },
  "nav_menu": {},
  "toc": {
   "navigate_menu": true,
   "number_sections": true,
   "sideBar": true,
   "threshold": 6,
   "toc_cell": true,
   "toc_section_display": "block",
   "toc_window_display": true
  }
 },
 "nbformat": 4,
 "nbformat_minor": 0
}
