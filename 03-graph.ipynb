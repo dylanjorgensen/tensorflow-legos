{
 "cells": [
  {
   "cell_type": "markdown",
   "metadata": {
    "toc": "true"
   },
   "source": [
    "# Table of Contents\n",
    " <p><div class=\"lev1 toc-item\"><a href=\"#class-tf.Graph\" data-toc-modified-id=\"class-tf.Graph-1\"><span class=\"toc-item-num\">1&nbsp;&nbsp;</span>class tf.Graph</a></div><div class=\"lev1 toc-item\"><a href=\"#Import/Export\" data-toc-modified-id=\"Import/Export-2\"><span class=\"toc-item-num\">2&nbsp;&nbsp;</span>Import/Export</a></div><div class=\"lev1 toc-item\"><a href=\"#Scope\" data-toc-modified-id=\"Scope-3\"><span class=\"toc-item-num\">3&nbsp;&nbsp;</span>Scope</a></div><div class=\"lev3 toc-item\"><a href=\"#Tensors\" data-toc-modified-id=\"Tensors-3.0.1\"><span class=\"toc-item-num\">3.0.1&nbsp;&nbsp;</span>Tensors</a></div><div class=\"lev3 toc-item\"><a href=\"#Operations\" data-toc-modified-id=\"Operations-3.0.2\"><span class=\"toc-item-num\">3.0.2&nbsp;&nbsp;</span>Operations</a></div><div class=\"lev1 toc-item\"><a href=\"#Collections\" data-toc-modified-id=\"Collections-4\"><span class=\"toc-item-num\">4&nbsp;&nbsp;</span>Collections</a></div><div class=\"lev1 toc-item\"><a href=\"#Versions...\" data-toc-modified-id=\"Versions...-5\"><span class=\"toc-item-num\">5&nbsp;&nbsp;</span>Versions...</a></div><div class=\"lev1 toc-item\"><a href=\"#Checkpoints\" data-toc-modified-id=\"Checkpoints-6\"><span class=\"toc-item-num\">6&nbsp;&nbsp;</span>Checkpoints</a></div><div class=\"lev3 toc-item\"><a href=\"#Save\" data-toc-modified-id=\"Save-6.0.1\"><span class=\"toc-item-num\">6.0.1&nbsp;&nbsp;</span>Save</a></div><div class=\"lev3 toc-item\"><a href=\"#Restore\" data-toc-modified-id=\"Restore-6.0.2\"><span class=\"toc-item-num\">6.0.2&nbsp;&nbsp;</span>Restore</a></div><div class=\"lev1 toc-item\"><a href=\"#Session\" data-toc-modified-id=\"Session-7\"><span class=\"toc-item-num\">7&nbsp;&nbsp;</span>Session</a></div><div class=\"lev3 toc-item\"><a href=\"#=-with-tf.Session()-as-sess:...\" data-toc-modified-id=\"=-with-tf.Session()-as-sess:...-7.0.1\"><span class=\"toc-item-num\">7.0.1&nbsp;&nbsp;</span>= with tf.Session() as sess:...</a></div><div class=\"lev3 toc-item\"><a href=\"#=-tf.InteractiveSession()...\" data-toc-modified-id=\"=-tf.InteractiveSession()...-7.0.2\"><span class=\"toc-item-num\">7.0.2&nbsp;&nbsp;</span>= tf.InteractiveSession()...</a></div><div class=\"lev1 toc-item\"><a href=\"#Feed-and-Fetch...\" data-toc-modified-id=\"Feed-and-Fetch...-8\"><span class=\"toc-item-num\">8&nbsp;&nbsp;</span>Feed and Fetch...</a></div><div class=\"lev3 toc-item\"><a href=\"#=-Session-Run...\" data-toc-modified-id=\"=-Session-Run...-8.0.1\"><span class=\"toc-item-num\">8.0.1&nbsp;&nbsp;</span>= Session Run...</a></div><div class=\"lev3 toc-item\"><a href=\"#=-Eval...\" data-toc-modified-id=\"=-Eval...-8.0.2\"><span class=\"toc-item-num\">8.0.2&nbsp;&nbsp;</span>= Eval...</a></div>"
   ]
  },
  {
   "cell_type": "code",
   "execution_count": 1,
   "metadata": {
    "collapsed": true
   },
   "outputs": [],
   "source": [
    "# Import tensorflow\n",
    "import tensorflow as tf"
   ]
  },
  {
   "cell_type": "markdown",
   "metadata": {},
   "source": [
    "# class tf.Graph\n",
    "- [class tf.Graph](https://www.tensorflow.org/versions/r0.11/api_docs/python/framework.html#Graph)"
   ]
  },
  {
   "cell_type": "markdown",
   "metadata": {},
   "source": [
    "# Import/Export"
   ]
  },
  {
   "cell_type": "code",
   "execution_count": null,
   "metadata": {
    "collapsed": true
   },
   "outputs": [],
   "source": [
    "# Returns a context manager that makes this Graph the default graph.\n",
    "tf.Graph.as_default()"
   ]
  },
  {
   "cell_type": "code",
   "execution_count": 13,
   "metadata": {
    "collapsed": true
   },
   "outputs": [],
   "source": [
    "# A default Graph is always registered, and accessible by calling tf.get_default_graph()\n",
    "c = tf.constant(4.0)\n",
    "assert c.graph is tf.get_default_graph()"
   ]
  },
  {
   "cell_type": "code",
   "execution_count": 14,
   "metadata": {
    "collapsed": true
   },
   "outputs": [],
   "source": [
    "# We can make a new graph, then it can be set to the new default. \n",
    "g = tf.Graph()\n",
    "with g.as_default():\n",
    "  # Define operations and tensors in `g`.\n",
    "  c = tf.constant(30.0)\n",
    "  assert c.graph is g"
   ]
  },
  {
   "cell_type": "code",
   "execution_count": null,
   "metadata": {
    "collapsed": true
   },
   "outputs": [],
   "source": [
    "# imports the inception graph as our default\n",
    "tf.import_graph_def(net['graph_def'], name='inception')"
   ]
  },
  {
   "cell_type": "code",
   "execution_count": null,
   "metadata": {
    "collapsed": true
   },
   "outputs": [],
   "source": [
    "from tensorflow.python.framework.ops import reset_default_graph\n",
    "reset_default_graph()"
   ]
  },
  {
   "cell_type": "markdown",
   "metadata": {},
   "source": [
    "# Scope"
   ]
  },
  {
   "cell_type": "code",
   "execution_count": null,
   "metadata": {
    "collapsed": true
   },
   "outputs": [],
   "source": [
    "# Returns a context manager that creates hierarchical names for operations.\n",
    "tf.Graph.name_scope(name)"
   ]
  },
  {
   "cell_type": "markdown",
   "metadata": {},
   "source": [
    "### Tensors"
   ]
  },
  {
   "cell_type": "code",
   "execution_count": null,
   "metadata": {
    "collapsed": true
   },
   "outputs": [],
   "source": [
    "# Returns tensor with a given name\n",
    "tf.Graph.get_tensor_by_name(name)"
   ]
  },
  {
   "cell_type": "code",
   "execution_count": null,
   "metadata": {
    "collapsed": true
   },
   "outputs": [],
   "source": [
    "x = g.get_tensor_by_name(names[0] + ':0')"
   ]
  },
  {
   "cell_type": "code",
   "execution_count": null,
   "metadata": {
    "collapsed": true
   },
   "outputs": [],
   "source": [
    "W = g.get_tensor_by_name('inception/conv2d0_w:0')\n",
    "W_eval = W.eval()\n",
    "print(W_eval.shape)"
   ]
  },
  {
   "cell_type": "markdown",
   "metadata": {},
   "source": [
    "### Operations"
   ]
  },
  {
   "cell_type": "code",
   "execution_count": 1,
   "metadata": {
    "collapsed": false
   },
   "outputs": [
    {
     "ename": "NameError",
     "evalue": "name 'tf' is not defined",
     "output_type": "error",
     "traceback": [
      "\u001b[0;31m---------------------------------------------------------------------------\u001b[0m",
      "\u001b[0;31mNameError\u001b[0m                                 Traceback (most recent call last)",
      "\u001b[0;32m<ipython-input-1-5067da61c5f6>\u001b[0m in \u001b[0;36m<module>\u001b[0;34m()\u001b[0m\n\u001b[1;32m      1\u001b[0m \u001b[0;31m# Shows operations in the graph\u001b[0m\u001b[0;34m\u001b[0m\u001b[0;34m\u001b[0m\u001b[0m\n\u001b[0;32m----> 2\u001b[0;31m \u001b[0mg\u001b[0m \u001b[0;34m=\u001b[0m \u001b[0mtf\u001b[0m\u001b[0;34m.\u001b[0m\u001b[0mget_default_graph\u001b[0m\u001b[0;34m(\u001b[0m\u001b[0;34m)\u001b[0m\u001b[0;34m\u001b[0m\u001b[0m\n\u001b[0m\u001b[1;32m      3\u001b[0m \u001b[0mnames\u001b[0m \u001b[0;34m=\u001b[0m \u001b[0;34m[\u001b[0m\u001b[0mop\u001b[0m\u001b[0;34m.\u001b[0m\u001b[0mname\u001b[0m \u001b[0;32mfor\u001b[0m \u001b[0mop\u001b[0m \u001b[0;32min\u001b[0m \u001b[0mg\u001b[0m\u001b[0;34m.\u001b[0m\u001b[0mget_operations\u001b[0m\u001b[0;34m(\u001b[0m\u001b[0;34m)\u001b[0m\u001b[0;34m]\u001b[0m\u001b[0;34m\u001b[0m\u001b[0m\n\u001b[1;32m      4\u001b[0m \u001b[0mprint\u001b[0m\u001b[0;34m(\u001b[0m\u001b[0mnames\u001b[0m\u001b[0;34m)\u001b[0m\u001b[0;34m\u001b[0m\u001b[0m\n",
      "\u001b[0;31mNameError\u001b[0m: name 'tf' is not defined"
     ]
    }
   ],
   "source": [
    "# Shows operations in the graph\n",
    "g = tf.get_default_graph()\n",
    "names = [op.name for op in g.get_operations()]\n",
    "print(names)"
   ]
  },
  {
   "cell_type": "markdown",
   "metadata": {},
   "source": [
    "# Collections"
   ]
  },
  {
   "cell_type": "code",
   "execution_count": null,
   "metadata": {
    "collapsed": true
   },
   "outputs": [],
   "source": [
    "# Stores value in the collection with the given name.\n",
    "tf.Graph.add_to_collection(name, value)"
   ]
  },
  {
   "cell_type": "markdown",
   "metadata": {},
   "source": [
    "# Versions...\n",
    "- Returns a version number that increases as ops are added to the graph."
   ]
  },
  {
   "cell_type": "code",
   "execution_count": null,
   "metadata": {
    "collapsed": true
   },
   "outputs": [],
   "source": [
    "# Returns a version number that increases as ops are added to the graph.\n",
    "tf.Graph.version"
   ]
  },
  {
   "cell_type": "code",
   "execution_count": null,
   "metadata": {
    "collapsed": true
   },
   "outputs": [],
   "source": [
    "# The GraphDef version information of this graph.\n",
    "tf.Graph.graph_def_versions"
   ]
  },
  {
   "cell_type": "markdown",
   "metadata": {},
   "source": [
    "# Checkpoints\n",
    "- A Saver-object  is used for storing and retrieving all the variables of the TensorFlow graph.\n",
    "- The saved files are often called checkpoints because they may be written at regular intervals during optimization."
   ]
  },
  {
   "cell_type": "markdown",
   "metadata": {},
   "source": [
    "### Save\n",
    "- This saves all the variables from the computational graph\n",
    "- This includes all convolutional filters, weights and biases"
   ]
  },
  {
   "cell_type": "code",
   "execution_count": null,
   "metadata": {
    "collapsed": true
   },
   "outputs": [],
   "source": [
    "# After optimization itterations\n",
    "\n",
    "# Sanity check\n",
    "print(\"b1\", sess.run(b1)) "
   ]
  },
  {
   "cell_type": "code",
   "execution_count": null,
   "metadata": {
    "collapsed": true
   },
   "outputs": [],
   "source": [
    "import os\n",
    "\n",
    "# New saver object\n",
    "saver = tf.train.Saver()\n",
    "\n",
    "# Create the directory if it does not exist.\n",
    "save_dir = 'checkpoints/'\n",
    "if not os.path.exists(save_dir):\n",
    "    os.makedirs(save_dir)\n",
    "\n",
    "save_path = saver.save(sess, \"checkpoints/model.ckpt\")\n",
    "print(\"Model saved in file: %s\" % save_path)"
   ]
  },
  {
   "cell_type": "markdown",
   "metadata": {},
   "source": [
    "### Restore"
   ]
  },
  {
   "cell_type": "code",
   "execution_count": null,
   "metadata": {
    "collapsed": true
   },
   "outputs": [],
   "source": [
    "# New saver object\n",
    "saver = tf.train.Saver()\n",
    "\n",
    "# Restore\n",
    "saver.restore(sess, save_path='checkpoints/model.ckpt')"
   ]
  },
  {
   "cell_type": "code",
   "execution_count": null,
   "metadata": {
    "collapsed": true
   },
   "outputs": [],
   "source": [
    "# Sanity check - Expect: b1 [ 22.47879219]\n",
    "print(\"b1\", sess.run(b1)) "
   ]
  },
  {
   "cell_type": "markdown",
   "metadata": {
    "collapsed": true
   },
   "source": [
    "# Session\n",
    "- A session object encapsulates the notion of an \"environment\" that can evaluate the CG.\n",
    "- sess.run is the core session computation method. \n",
    "- eval is syntactic sugar for specific variables that says \"find the session that is currently in scope, then execute the computation I specified, then return the result\""
   ]
  },
  {
   "cell_type": "markdown",
   "metadata": {
    "collapsed": true
   },
   "source": [
    "### = with tf.Session() as sess:...\n",
    "- These use the python with statement so they automatically close when done."
   ]
  },
  {
   "cell_type": "code",
   "execution_count": null,
   "metadata": {
    "collapsed": true
   },
   "outputs": [],
   "source": [
    "with tf.Session() as sess:\n",
    "        product = tf.matmul(matrix1, matrix2)\n",
    "        print(product.eval())\n",
    "        product_rev = tf.matmul(matrix2, matrix1)\n",
    "        print(product_rev.eval())"
   ]
  },
  {
   "cell_type": "markdown",
   "metadata": {
    "collapsed": true
   },
   "source": [
    "### = tf.InteractiveSession()...\n",
    "- We need to manually close"
   ]
  },
  {
   "cell_type": "code",
   "execution_count": null,
   "metadata": {
    "collapsed": true
   },
   "outputs": [],
   "source": [
    "# Enter an interactive TensorFlow Session.\n",
    "sess = tf.InteractiveSession()"
   ]
  },
  {
   "cell_type": "code",
   "execution_count": null,
   "metadata": {
    "collapsed": true
   },
   "outputs": [],
   "source": [
    "# Initialize all vars\n",
    "sess.run(tf.initialize_all_variables())"
   ]
  },
  {
   "cell_type": "code",
   "execution_count": null,
   "metadata": {
    "collapsed": true
   },
   "outputs": [],
   "source": [
    "# Train & Log\n",
    "for ep in range(300):\n",
    "    sess.run(optimizer, feed_dict={px:train_x, py:train_y})\n",
    "    \n",
    "    # Log info\n",
    "    if (ep+1) % 50 == 0:\n",
    "        print(\"Ep:\", ep+1)     \n",
    "        print(\"Cost\", sess.run(cost, feed_dict={px:train_x, py:train_y}))"
   ]
  },
  {
   "cell_type": "code",
   "execution_count": null,
   "metadata": {
    "collapsed": true
   },
   "outputs": [],
   "source": [
    "# Close an interactive TensorFlow Session when we're done.\n",
    "sess.close()"
   ]
  },
  {
   "cell_type": "markdown",
   "metadata": {},
   "source": [
    "# Feed and Fetch..."
   ]
  },
  {
   "cell_type": "code",
   "execution_count": null,
   "metadata": {
    "collapsed": true
   },
   "outputs": [],
   "source": [
    "# Returns True if and only if tensor is feedable.\n",
    "# tf.Graph.is_feedable(tensor)"
   ]
  },
  {
   "cell_type": "code",
   "execution_count": null,
   "metadata": {
    "collapsed": true
   },
   "outputs": [],
   "source": [
    "# Returns True if and only if tensor_or_op is fetchable.\n",
    "# tf.Graph.is_fetchable(tensor_or_op)"
   ]
  },
  {
   "cell_type": "markdown",
   "metadata": {},
   "source": [
    "### = Session Run...\n",
    "- This is a FETCH command, which means we are pulling data out of the computation graph.\n",
    "- sess.run(c)"
   ]
  },
  {
   "cell_type": "code",
   "execution_count": null,
   "metadata": {
    "collapsed": true
   },
   "outputs": [],
   "source": [
    "sess = tf.InteractiveSession()\n",
    "\n",
    "print(sess.run(product))\n",
    "print(sess.run(product_rev))"
   ]
  },
  {
   "cell_type": "markdown",
   "metadata": {},
   "source": [
    "### = Eval...\n",
    "- c.eval() is just syntactic sugar for sess.run(c) in the currently active session."
   ]
  },
  {
   "cell_type": "code",
   "execution_count": null,
   "metadata": {
    "collapsed": true
   },
   "outputs": [],
   "source": [
    "print(product.eval())\n",
    "print(product_rev.eval())"
   ]
  },
  {
   "cell_type": "code",
   "execution_count": null,
   "metadata": {
    "collapsed": true
   },
   "outputs": [],
   "source": []
  }
 ],
 "metadata": {
  "kernelspec": {
   "display_name": "Python [Root]",
   "language": "python",
   "name": "Python [Root]"
  },
  "language_info": {
   "codemirror_mode": {
    "name": "ipython",
    "version": 3
   },
   "file_extension": ".py",
   "mimetype": "text/x-python",
   "name": "python",
   "nbconvert_exporter": "python",
   "pygments_lexer": "ipython3",
   "version": "3.5.2"
  },
  "nav_menu": {},
  "toc": {
   "navigate_menu": true,
   "number_sections": true,
   "sideBar": true,
   "threshold": 6,
   "toc_cell": true,
   "toc_section_display": "block",
   "toc_window_display": true
  }
 },
 "nbformat": 4,
 "nbformat_minor": 0
}
