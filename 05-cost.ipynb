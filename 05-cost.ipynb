{
 "cells": [
  {
   "cell_type": "markdown",
   "metadata": {
    "toc": "true"
   },
   "source": [
    "# Table of Contents\n",
    " <p><div class=\"lev1 toc-item\"><a href=\"#Normalization\" data-toc-modified-id=\"Normalization-1\"><span class=\"toc-item-num\">1&nbsp;&nbsp;</span>Normalization</a></div><div class=\"lev1 toc-item\"><a href=\"#ANNs\" data-toc-modified-id=\"ANNs-2\"><span class=\"toc-item-num\">2&nbsp;&nbsp;</span>ANNs</a></div><div class=\"lev2 toc-item\"><a href=\"#Regression\" data-toc-modified-id=\"Regression-2.1\"><span class=\"toc-item-num\">2.1&nbsp;&nbsp;</span>Regression</a></div><div class=\"lev3 toc-item\"><a href=\"#Mean-Square-Error\" data-toc-modified-id=\"Mean-Square-Error-2.1.1\"><span class=\"toc-item-num\">2.1.1&nbsp;&nbsp;</span>Mean Square Error</a></div><div class=\"lev2 toc-item\"><a href=\"#Clasification\" data-toc-modified-id=\"Clasification-2.2\"><span class=\"toc-item-num\">2.2&nbsp;&nbsp;</span>Clasification</a></div><div class=\"lev3 toc-item\"><a href=\"#Cross-Entropy\" data-toc-modified-id=\"Cross-Entropy-2.2.1\"><span class=\"toc-item-num\">2.2.1&nbsp;&nbsp;</span>Cross-Entropy</a></div><div class=\"lev1 toc-item\"><a href=\"#CNNs\" data-toc-modified-id=\"CNNs-3\"><span class=\"toc-item-num\">3&nbsp;&nbsp;</span>CNNs</a></div><div class=\"lev1 toc-item\"><a href=\"#RNNs\" data-toc-modified-id=\"RNNs-4\"><span class=\"toc-item-num\">4&nbsp;&nbsp;</span>RNNs</a></div>"
   ]
  },
  {
   "cell_type": "code",
   "execution_count": null,
   "metadata": {
    "collapsed": true
   },
   "outputs": [],
   "source": [
    "# Import tensorflow\n",
    "import tensorflow as tf"
   ]
  },
  {
   "cell_type": "markdown",
   "metadata": {},
   "source": [
    "# ANNs"
   ]
  },
  {
   "cell_type": "markdown",
   "metadata": {},
   "source": [
    "## Regression"
   ]
  },
  {
   "cell_type": "markdown",
   "metadata": {},
   "source": [
    "### Mean Square Error\n",
    "- Use for **regression problems** and **percentage of error** for classification problems."
   ]
  },
  {
   "cell_type": "raw",
   "metadata": {
    "collapsed": true
   },
   "source": [
    "# Mean Square Error ()\n",
    "mse_cost = tf.reduce_mean(tf.square(tf.sub(py, y_)))"
   ]
  },
  {
   "cell_type": "markdown",
   "metadata": {},
   "source": [
    "## Clasification"
   ]
  },
  {
   "cell_type": "markdown",
   "metadata": {},
   "source": [
    "### Cross-Entropy\n",
    "- [tf.nn.softmax_cross_entropy_with_logits(logits, labels, dim=-1, name=None)](https://www.tensorflow.org/versions/r0.11/api_docs/python/nn.html#softmax_cross_entropy_with_logits)\n",
    "- Use for **classification**.\n",
    "- !!! IMPORTANT!!! Tensorflow cross entropy operations apply the softmax for you under the hood. \n",
    "- The \"with logits\" part is saying \"feed in the logit output of logit=mx+b before you apply softmax"
   ]
  },
  {
   "cell_type": "raw",
   "metadata": {},
   "source": [
    "# - !!! BIG WARNING !!!\n",
    "# - Remember when using **cross entropy** with **logits**, we must do the calulations **without softmax applied**. \n",
    "ce_wl_cost = tf.reduce_mean(tf.nn.softmax_cross_entropy_with_logits(logits=logits, labels=y_))"
   ]
  },
  {
   "cell_type": "markdown",
   "metadata": {
    "collapsed": true
   },
   "source": [
    "# CNNs"
   ]
  },
  {
   "cell_type": "code",
   "execution_count": null,
   "metadata": {
    "collapsed": true
   },
   "outputs": [],
   "source": []
  },
  {
   "cell_type": "code",
   "execution_count": null,
   "metadata": {
    "collapsed": true
   },
   "outputs": [],
   "source": []
  },
  {
   "cell_type": "markdown",
   "metadata": {},
   "source": [
    "# RNNs"
   ]
  },
  {
   "cell_type": "code",
   "execution_count": null,
   "metadata": {
    "collapsed": true
   },
   "outputs": [],
   "source": []
  },
  {
   "cell_type": "code",
   "execution_count": null,
   "metadata": {
    "collapsed": true
   },
   "outputs": [],
   "source": []
  },
  {
   "cell_type": "code",
   "execution_count": null,
   "metadata": {
    "collapsed": true
   },
   "outputs": [],
   "source": []
  }
 ],
 "metadata": {
  "kernelspec": {
   "display_name": "Python [Root]",
   "language": "python",
   "name": "Python [Root]"
  },
  "language_info": {
   "codemirror_mode": {
    "name": "ipython",
    "version": 3
   },
   "file_extension": ".py",
   "mimetype": "text/x-python",
   "name": "python",
   "nbconvert_exporter": "python",
   "pygments_lexer": "ipython3",
   "version": "3.5.2"
  },
  "nav_menu": {},
  "toc": {
   "navigate_menu": true,
   "number_sections": true,
   "sideBar": true,
   "threshold": 6,
   "toc_cell": true,
   "toc_section_display": "block",
   "toc_window_display": true
  }
 },
 "nbformat": 4,
 "nbformat_minor": 0
}
