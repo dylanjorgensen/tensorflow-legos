{
 "cells": [
  {
   "cell_type": "markdown",
   "metadata": {},
   "source": [
    "### Resources:\n",
    "- "
   ]
  },
  {
   "cell_type": "markdown",
   "metadata": {
    "toc": "true"
   },
   "source": [
    "# Table of Contents\n",
    " <p><div class=\"lev3 toc-item\"><a href=\"#Resources:\" data-toc-modified-id=\"Resources:-0.0.1\"><span class=\"toc-item-num\">0.0.1&nbsp;&nbsp;</span>Resources:</a></div><div class=\"lev1 toc-item\"><a href=\"#Optimizers\" data-toc-modified-id=\"Optimizers-1\"><span class=\"toc-item-num\">1&nbsp;&nbsp;</span>Optimizers</a></div><div class=\"lev3 toc-item\"><a href=\"#=-tf.train.GradientDescentOptimizer()...\" data-toc-modified-id=\"=-tf.train.GradientDescentOptimizer()...-1.0.1\"><span class=\"toc-item-num\">1.0.1&nbsp;&nbsp;</span>= tf.train.GradientDescentOptimizer()...</a></div><div class=\"lev3 toc-item\"><a href=\"#=-tf.train.AdadeltaOptimizer()...\" data-toc-modified-id=\"=-tf.train.AdadeltaOptimizer()...-1.0.2\"><span class=\"toc-item-num\">1.0.2&nbsp;&nbsp;</span>= tf.train.AdadeltaOptimizer()...</a></div><div class=\"lev3 toc-item\"><a href=\"#=-tf.train.MomentumOptimizer()...\" data-toc-modified-id=\"=-tf.train.MomentumOptimizer()...-1.0.3\"><span class=\"toc-item-num\">1.0.3&nbsp;&nbsp;</span>= tf.train.MomentumOptimizer()...</a></div><div class=\"lev3 toc-item\"><a href=\"#=-tf.train.FtrlOptimizer()...\" data-toc-modified-id=\"=-tf.train.FtrlOptimizer()...-1.0.4\"><span class=\"toc-item-num\">1.0.4&nbsp;&nbsp;</span>= tf.train.FtrlOptimizer()...</a></div><div class=\"lev3 toc-item\"><a href=\"#=-tf.train.RMSPropOptimizer()...\" data-toc-modified-id=\"=-tf.train.RMSPropOptimizer()...-1.0.5\"><span class=\"toc-item-num\">1.0.5&nbsp;&nbsp;</span>= tf.train.RMSPropOptimizer()...</a></div><div class=\"lev1 toc-item\"><a href=\"#Normalization\" data-toc-modified-id=\"Normalization-2\"><span class=\"toc-item-num\">2&nbsp;&nbsp;</span>Normalization</a></div><div class=\"lev3 toc-item\"><a href=\"#L2\" data-toc-modified-id=\"L2-2.0.1\"><span class=\"toc-item-num\">2.0.1&nbsp;&nbsp;</span>L2</a></div><div class=\"lev3 toc-item\"><a href=\"#Dropout\" data-toc-modified-id=\"Dropout-2.0.2\"><span class=\"toc-item-num\">2.0.2&nbsp;&nbsp;</span>Dropout</a></div>"
   ]
  },
  {
   "cell_type": "code",
   "execution_count": 2,
   "metadata": {
    "collapsed": true
   },
   "outputs": [],
   "source": [
    "%matplotlib inline\n",
    "# %pylab osx\n",
    "import os\n",
    "import tensorflow as tf\n",
    "import numpy as np\n",
    "import matplotlib.pyplot as plt\n",
    "import matplotlib.colors as colors\n",
    "import matplotlib.cm as cmx\n",
    "plt.style.use('ggplot')"
   ]
  },
  {
   "cell_type": "markdown",
   "metadata": {},
   "source": [
    "# Optimizers\n",
    "- [TensorFlow API - Optimizers](https://www.tensorflow.org/versions/r0.10/api_docs/python/train.html#optimizers)"
   ]
  },
  {
   "cell_type": "markdown",
   "metadata": {},
   "source": [
    "### = tf.train.GradientDescentOptimizer()...\n",
    "- [tf.train.GradientDescentOptimizer(learning_rate, use_locking=False, name='GradientDescent')](https://www.tensorflow.org/versions/r0.11/api_docs/python/train.html#GradientDescentOptimizer)"
   ]
  },
  {
   "cell_type": "raw",
   "metadata": {
    "collapsed": true
   },
   "source": [
    "# Optimizer: Gradient descent\n",
    "optimizer = tf.train.GradientDescentOptimizer(learning_rate=0.01).minimize(cost)"
   ]
  },
  {
   "cell_type": "markdown",
   "metadata": {
    "collapsed": true
   },
   "source": [
    "### = tf.train.AdadeltaOptimizer()..."
   ]
  },
  {
   "cell_type": "code",
   "execution_count": null,
   "metadata": {
    "collapsed": true
   },
   "outputs": [],
   "source": []
  },
  {
   "cell_type": "markdown",
   "metadata": {},
   "source": [
    "### = tf.train.MomentumOptimizer()..."
   ]
  },
  {
   "cell_type": "code",
   "execution_count": null,
   "metadata": {
    "collapsed": true
   },
   "outputs": [],
   "source": []
  },
  {
   "cell_type": "markdown",
   "metadata": {},
   "source": [
    "### = tf.train.FtrlOptimizer()..."
   ]
  },
  {
   "cell_type": "code",
   "execution_count": null,
   "metadata": {
    "collapsed": true
   },
   "outputs": [],
   "source": []
  },
  {
   "cell_type": "markdown",
   "metadata": {},
   "source": [
    "### = tf.train.RMSPropOptimizer()..."
   ]
  },
  {
   "cell_type": "code",
   "execution_count": null,
   "metadata": {
    "collapsed": true
   },
   "outputs": [],
   "source": []
  },
  {
   "cell_type": "code",
   "execution_count": null,
   "metadata": {
    "collapsed": true
   },
   "outputs": [],
   "source": []
  },
  {
   "cell_type": "markdown",
   "metadata": {},
   "source": [
    "# Normalization"
   ]
  },
  {
   "cell_type": "markdown",
   "metadata": {},
   "source": [
    "### L2"
   ]
  },
  {
   "cell_type": "code",
   "execution_count": null,
   "metadata": {
    "collapsed": true
   },
   "outputs": [],
   "source": [
    "tf.nn.l2_normalize(x, dim, epsilon=1e-12, name=None)"
   ]
  },
  {
   "cell_type": "code",
   "execution_count": null,
   "metadata": {
    "collapsed": true
   },
   "outputs": [],
   "source": [
    "tf.nn.l2_loss(t, name=None)"
   ]
  },
  {
   "cell_type": "markdown",
   "metadata": {},
   "source": [
    "### = tf.nn.dropout()\n",
    "- [tf.nn.dropout(x, keep_prob, noise_shape=None, seed=None, name=None)](https://www.tensorflow.org/versions/r0.11/api_docs/python/nn.html#dropout)\n",
    "- The keep_prob parameter defines what probability connections will kept at.\n",
    "- So at keep_prob = 0.74 we keep 75% of the connections."
   ]
  },
  {
   "cell_type": "code",
   "execution_count": null,
   "metadata": {
    "collapsed": true
   },
   "outputs": [],
   "source": [
    "keep_prob = 0.75\n",
    "regularization_out = tf.nn.dropout(activation_out, keep_prob)"
   ]
  }
 ],
 "metadata": {
  "kernelspec": {
   "display_name": "Python [Root]",
   "language": "python",
   "name": "Python [Root]"
  },
  "language_info": {
   "codemirror_mode": {
    "name": "ipython",
    "version": 3
   },
   "file_extension": ".py",
   "mimetype": "text/x-python",
   "name": "python",
   "nbconvert_exporter": "python",
   "pygments_lexer": "ipython3",
   "version": "3.5.2"
  },
  "nav_menu": {},
  "toc": {
   "navigate_menu": true,
   "number_sections": true,
   "sideBar": true,
   "threshold": 6,
   "toc_cell": true,
   "toc_section_display": "block",
   "toc_window_display": true
  },
  "toc_position": {
   "height": "574px",
   "left": "0px",
   "right": "964px",
   "top": "106px",
   "width": "212px"
  }
 },
 "nbformat": 4,
 "nbformat_minor": 0
}
