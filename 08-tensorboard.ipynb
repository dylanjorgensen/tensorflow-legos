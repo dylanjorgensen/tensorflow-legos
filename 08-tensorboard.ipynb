{
 "cells": [
  {
   "cell_type": "markdown",
   "metadata": {},
   "source": [
    "### Resources:\n",
    "- [TensorBoard tutorial](https://www.tensorflow.org/versions/master/how_tos/summaries_and_tensorboard/index.html)"
   ]
  },
  {
   "cell_type": "markdown",
   "metadata": {
    "toc": "true"
   },
   "source": [
    "# Table of Contents\n",
    " <p><div class=\"lev3 toc-item\"><a href=\"#Resources:\" data-toc-modified-id=\"Resources:-0.0.1\"><span class=\"toc-item-num\">0.0.1&nbsp;&nbsp;</span>Resources:</a></div><div class=\"lev1 toc-item\"><a href=\"#Summarys\" data-toc-modified-id=\"Summarys-1\"><span class=\"toc-item-num\">1&nbsp;&nbsp;</span>Summarys</a></div><div class=\"lev3 toc-item\"><a href=\"#=-tf.scalar_summary()...\" data-toc-modified-id=\"=-tf.scalar_summary()...-1.0.1\"><span class=\"toc-item-num\">1.0.1&nbsp;&nbsp;</span>= tf.scalar_summary()...</a></div><div class=\"lev3 toc-item\"><a href=\"#=-tf.histogram_summary()...\" data-toc-modified-id=\"=-tf.histogram_summary()...-1.0.2\"><span class=\"toc-item-num\">1.0.2&nbsp;&nbsp;</span>= tf.histogram_summary()...</a></div><div class=\"lev3 toc-item\"><a href=\"#=-tf.image_summary()...\" data-toc-modified-id=\"=-tf.image_summary()...-1.0.3\"><span class=\"toc-item-num\">1.0.3&nbsp;&nbsp;</span>= tf.image_summary()...</a></div><div class=\"lev3 toc-item\"><a href=\"#=-tf.audio_summary()...\" data-toc-modified-id=\"=-tf.audio_summary()...-1.0.4\"><span class=\"toc-item-num\">1.0.4&nbsp;&nbsp;</span>= tf.audio_summary()...</a></div><div class=\"lev1 toc-item\"><a href=\"#Session-Logging\" data-toc-modified-id=\"Session-Logging-2\"><span class=\"toc-item-num\">2&nbsp;&nbsp;</span>Session Logging</a></div><div class=\"lev3 toc-item\"><a href=\"#=-tf.merge_all_summaries()...\" data-toc-modified-id=\"=-tf.merge_all_summaries()...-2.0.1\"><span class=\"toc-item-num\">2.0.1&nbsp;&nbsp;</span>= tf.merge_all_summaries()...</a></div><div class=\"lev3 toc-item\"><a href=\"#tf.train.SummaryWriter()...\" data-toc-modified-id=\"tf.train.SummaryWriter()...-2.0.2\"><span class=\"toc-item-num\">2.0.2&nbsp;&nbsp;</span>tf.train.SummaryWriter()...</a></div><div class=\"lev1 toc-item\"><a href=\"#Jupyter-Notebooks\" data-toc-modified-id=\"Jupyter-Notebooks-3\"><span class=\"toc-item-num\">3&nbsp;&nbsp;</span>Jupyter Notebooks</a></div><div class=\"lev3 toc-item\"><a href=\"#=-Terminal-Commands\" data-toc-modified-id=\"=-Terminal-Commands-3.0.1\"><span class=\"toc-item-num\">3.0.1&nbsp;&nbsp;</span>= Terminal Commands</a></div><div class=\"lev3 toc-item\"><a href=\"#=-In-Notebook-Display\" data-toc-modified-id=\"=-In-Notebook-Display-3.0.2\"><span class=\"toc-item-num\">3.0.2&nbsp;&nbsp;</span>= In Notebook Display</a></div>"
   ]
  },
  {
   "cell_type": "code",
   "execution_count": 2,
   "metadata": {
    "collapsed": true
   },
   "outputs": [],
   "source": [
    "import tensorflow as tf"
   ]
  },
  {
   "cell_type": "markdown",
   "metadata": {},
   "source": [
    "# Summarys"
   ]
  },
  {
   "cell_type": "code",
   "execution_count": null,
   "metadata": {
    "collapsed": true
   },
   "outputs": [],
   "source": [
    "tf.scalar_summary(cost.op.name, cost)"
   ]
  },
  {
   "cell_type": "code",
   "execution_count": null,
   "metadata": {
    "collapsed": true
   },
   "outputs": [],
   "source": [
    "g = tf.Graph()\n",
    "names = [op.name for op in g.get_operations()]\n",
    "\n",
    "#print(names one row at a time)\n",
    "print(\"\\n\".join(names))"
   ]
  },
  {
   "cell_type": "markdown",
   "metadata": {},
   "source": [
    "### = tf.scalar_summary()...\n",
    "- [tf.scalar_summary(tags, values, collections=None, name=None)](https://www.tensorflow.org/versions/r0.11/api_docs/python/train.html#scalar_summary)"
   ]
  },
  {
   "cell_type": "code",
   "execution_count": null,
   "metadata": {
    "collapsed": true
   },
   "outputs": [],
   "source": [
    "# Add summary ops to collect data\n",
    "tf.scalar_summary(\"Cost_MSE\", cost)"
   ]
  },
  {
   "cell_type": "code",
   "execution_count": null,
   "metadata": {
    "collapsed": true
   },
   "outputs": [],
   "source": [
    "tf.scalar_summary(\"accuracy\", accuracy)"
   ]
  },
  {
   "cell_type": "code",
   "execution_count": null,
   "metadata": {
    "collapsed": true
   },
   "outputs": [],
   "source": [
    "# tf.scalar_summary(cost.op.name, cost)"
   ]
  },
  {
   "cell_type": "markdown",
   "metadata": {},
   "source": [
    "### = tf.histogram_summary()...\n",
    "- Good for weights and biases \n",
    "- Frequencies can help us learn more about how the values gyrate"
   ]
  },
  {
   "cell_type": "code",
   "execution_count": 5,
   "metadata": {
    "collapsed": false
   },
   "outputs": [
    {
     "data": {
      "text/plain": [
       "<tf.Tensor 'HistogramSummary_1:0' shape=() dtype=string>"
      ]
     },
     "execution_count": 5,
     "metadata": {},
     "output_type": "execute_result"
    }
   ],
   "source": [
    "# Add summary ops to collect data\n",
    "tf.histogram_summary(\"weights\", w1)\n",
    "tf.histogram_summary(\"biases\", b1)"
   ]
  },
  {
   "cell_type": "markdown",
   "metadata": {},
   "source": [
    "### = tf.image_summary()..."
   ]
  },
  {
   "cell_type": "raw",
   "metadata": {},
   "source": [
    "tf.image_summary(tag, tensor, max_images=3, collections=None, name=None)"
   ]
  },
  {
   "cell_type": "markdown",
   "metadata": {},
   "source": [
    "### = tf.audio_summary()..."
   ]
  },
  {
   "cell_type": "raw",
   "metadata": {},
   "source": [
    "tf.audio_summary(tag, tensor, sample_rate, max_outputs=3, collections=None, name=None)"
   ]
  },
  {
   "cell_type": "markdown",
   "metadata": {},
   "source": [
    "# Session Logging"
   ]
  },
  {
   "cell_type": "code",
   "execution_count": null,
   "metadata": {
    "collapsed": true
   },
   "outputs": [],
   "source": [
    "# Enter an interactive TensorFlow Session.\n",
    "sess = tf.InteractiveSession()"
   ]
  },
  {
   "cell_type": "markdown",
   "metadata": {},
   "source": [
    "### = tf.merge_all_summaries()..."
   ]
  },
  {
   "cell_type": "markdown",
   "metadata": {},
   "source": [
    "### tf.train.SummaryWriter()..."
   ]
  },
  {
   "cell_type": "code",
   "execution_count": null,
   "metadata": {
    "collapsed": true
   },
   "outputs": [],
   "source": [
    "merged = tf.merge_all_summaries()\n",
    "writer = tf.train.SummaryWriter(\"logs/\", sess.graph)"
   ]
  },
  {
   "cell_type": "code",
   "execution_count": null,
   "metadata": {
    "collapsed": true
   },
   "outputs": [],
   "source": [
    "# Initialize all vars\n",
    "sess.run(tf.initialize_all_variables())"
   ]
  },
  {
   "cell_type": "code",
   "execution_count": null,
   "metadata": {
    "collapsed": true
   },
   "outputs": [],
   "source": [
    "# Train & Log\n",
    "for step in range(300):\n",
    "    \n",
    "    # Optimize on training data\n",
    "    train_dict={px:train_x, py:train_y}\n",
    "    sess.run(optimizer, feed_dict=train_dict)\n",
    "    \n",
    "    # Write an operations summary for each iteration:\n",
    "    summary = sess.run(merged, feed_dict=train_dict)\n",
    "    writer.add_summary(summary, step)\n",
    " \n",
    "    # Log info\n",
    "    if step == 0 or (step+1) % 50 == 0:\n",
    "        p_cost = sess.run(cost, feed_dict=train_dict)\n",
    "        print(\"Step {:4d}:\".format(step+1))\n",
    "        print(\"Cost {:5.2f}:\".format(sess.run(cost, feed_dict=train_dict)))\n",
    "        print(\"Bias {}:\".format(sess.run(b1)))\n",
    "        print(\"Weights {}:\".format(sess.run(w1)))"
   ]
  },
  {
   "cell_type": "markdown",
   "metadata": {},
   "source": [
    "# Jupyter Notebooks"
   ]
  },
  {
   "cell_type": "markdown",
   "metadata": {},
   "source": [
    "### = Terminal Commands\n",
    "- [http://0.0.0.0:6006](http://0.0.0.0:6006/#graphs)"
   ]
  },
  {
   "cell_type": "markdown",
   "metadata": {},
   "source": [
    "cd ~/Google\\ Drive/09\\ -\\ Code\\ Corner/python/03-mit-land/05-lou-ruvo-center-\\(deep-learning\\)/02-ann/02-multiple-linear-regression/"
   ]
  },
  {
   "cell_type": "markdown",
   "metadata": {},
   "source": [
    "tensorboard --logdir=\"logs\""
   ]
  },
  {
   "cell_type": "markdown",
   "metadata": {},
   "source": [
    "### = In Notebook Display"
   ]
  },
  {
   "cell_type": "code",
   "execution_count": null,
   "metadata": {
    "collapsed": true
   },
   "outputs": [],
   "source": [
    "from IPython.display import clear_output, Image, display, HTML\n",
    "\n",
    "def strip_consts(graph_def, max_const_size=32):\n",
    "    \"\"\"Strip large constant values from graph_def.\"\"\"\n",
    "    strip_def = tf.GraphDef()\n",
    "    for n0 in graph_def.node:\n",
    "        n = strip_def.node.add() \n",
    "        n.MergeFrom(n0)\n",
    "        if n.op == 'Const':\n",
    "            tensor = n.attr['value'].tensor\n",
    "            size = len(tensor.tensor_content)\n",
    "            if size > max_const_size:\n",
    "                tensor.tensor_content = \"<stripped %d bytes>\"%size\n",
    "    return strip_def\n",
    "\n",
    "def show_graph(graph_def, max_const_size=32):\n",
    "    \"\"\"Visualize TensorFlow graph.\"\"\"\n",
    "    if hasattr(graph_def, 'as_graph_def'):\n",
    "        graph_def = graph_def.as_graph_def()\n",
    "    strip_def = strip_consts(graph_def, max_const_size=max_const_size)\n",
    "    code = \"\"\"\n",
    "        <script>\n",
    "          function load() {{\n",
    "            document.getElementById(\"{id}\").pbtxt = {data};\n",
    "          }}\n",
    "        </script>\n",
    "        <link rel=\"import\" href=\"https://tensorboard.appspot.com/tf-graph-basic.build.html\" onload=load()>\n",
    "        <div style=\"height:600px\">\n",
    "          <tf-graph-basic id=\"{id}\"></tf-graph-basic>\n",
    "        </div>\n",
    "    \"\"\".format(data=repr(str(strip_def)), id='graph'+str(np.random.rand()))\n",
    "\n",
    "    iframe = \"\"\"\n",
    "        <iframe seamless style=\"width:1200px;height:620px;border:0\" srcdoc=\"{}\"></iframe>\n",
    "    \"\"\".format(code.replace('\"', '&quot;'))\n",
    "    display(HTML(iframe))\n",
    "    \n",
    "show_graph(tf.get_default_graph().as_graph_def())"
   ]
  },
  {
   "cell_type": "code",
   "execution_count": null,
   "metadata": {
    "collapsed": true
   },
   "outputs": [],
   "source": []
  }
 ],
 "metadata": {
  "kernelspec": {
   "display_name": "Python [Root]",
   "language": "python",
   "name": "Python [Root]"
  },
  "language_info": {
   "codemirror_mode": {
    "name": "ipython",
    "version": 3
   },
   "file_extension": ".py",
   "mimetype": "text/x-python",
   "name": "python",
   "nbconvert_exporter": "python",
   "pygments_lexer": "ipython3",
   "version": "3.5.2"
  },
  "nav_menu": {},
  "toc": {
   "navigate_menu": true,
   "number_sections": true,
   "sideBar": true,
   "threshold": 6,
   "toc_cell": true,
   "toc_section_display": "block",
   "toc_window_display": true
  }
 },
 "nbformat": 4,
 "nbformat_minor": 0
}
